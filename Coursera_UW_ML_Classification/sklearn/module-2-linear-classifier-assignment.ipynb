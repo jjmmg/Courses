{
 "cells": [
  {
   "cell_type": "markdown",
   "metadata": {},
   "source": [
    "# Predicting sentiment from product reviews\n",
    "\n",
    "\n",
    "The goal of this first notebook is to explore logistic regression and feature engineering with existing GraphLab functions.\n",
    "\n",
    "In this notebook you will use product review data from Amazon.com to predict whether the sentiments about a product (from its reviews) are positive or negative.\n",
    "\n",
    "* Use SFrames to do some feature engineering\n",
    "* Train a logistic regression model to predict the sentiment of product reviews.\n",
    "* Inspect the weights (coefficients) of a trained logistic regression model.\n",
    "* Make a prediction (both class and probability) of sentiment for a new product review.\n",
    "* Given the logistic regression weights, predictors and ground truth labels, write a function to compute the **accuracy** of the model.\n",
    "* Inspect the coefficients of the logistic regression model and interpret their meanings.\n",
    "* Compare multiple logistic regression models.\n",
    "\n",
    "Let's get started!\n",
    "    \n",
    "## Fire up GraphLab Create"
   ]
  },
  {
   "cell_type": "markdown",
   "metadata": {},
   "source": [
    "Make sure you have the latest version of GraphLab Create."
   ]
  },
  {
   "cell_type": "code",
   "execution_count": 1,
   "metadata": {
    "collapsed": false
   },
   "outputs": [],
   "source": [
    "import pandas as pd\n",
    "import numpy as np\n",
    "import json\n",
    "import math\n",
    "import string\n",
    "\n",
    "from __future__ import division\n",
    "from sklearn.feature_extraction.text import CountVectorizer\n",
    "from sklearn.linear_model import LogisticRegression\n",
    "from sklearn.metrics import accuracy_score"
   ]
  },
  {
   "cell_type": "markdown",
   "metadata": {},
   "source": [
    "# Data preperation\n",
    "\n",
    "We will use a dataset consisting of baby product reviews on Amazon.com."
   ]
  },
  {
   "cell_type": "code",
   "execution_count": 2,
   "metadata": {
    "collapsed": false
   },
   "outputs": [],
   "source": [
    "products = pd.read_csv('amazon_baby.csv', dtype=[('name',np.str_), ('review', np.str_),('rating', np.float)])"
   ]
  },
  {
   "cell_type": "markdown",
   "metadata": {},
   "source": [
    "Now, let us see a preview of what the dataset looks like."
   ]
  },
  {
   "cell_type": "code",
   "execution_count": 3,
   "metadata": {
    "collapsed": false
   },
   "outputs": [
    {
     "data": {
      "text/html": [
       "<div style=\"max-height:1000px;max-width:1500px;overflow:auto;\">\n",
       "<table border=\"1\" class=\"dataframe\">\n",
       "  <thead>\n",
       "    <tr style=\"text-align: right;\">\n",
       "      <th></th>\n",
       "      <th>name</th>\n",
       "      <th>review</th>\n",
       "      <th>rating</th>\n",
       "    </tr>\n",
       "  </thead>\n",
       "  <tbody>\n",
       "    <tr>\n",
       "      <th>0     </th>\n",
       "      <td>                          Planetwise Flannel Wipes</td>\n",
       "      <td> These flannel wipes are OK, but in my opinion ...</td>\n",
       "      <td> 3</td>\n",
       "    </tr>\n",
       "    <tr>\n",
       "      <th>1     </th>\n",
       "      <td>                             Planetwise Wipe Pouch</td>\n",
       "      <td> it came early and was not disappointed. i love...</td>\n",
       "      <td> 5</td>\n",
       "    </tr>\n",
       "    <tr>\n",
       "      <th>2     </th>\n",
       "      <td>               Annas Dream Full Quilt with 2 Shams</td>\n",
       "      <td> Very soft and comfortable and warmer than it l...</td>\n",
       "      <td> 5</td>\n",
       "    </tr>\n",
       "    <tr>\n",
       "      <th>3     </th>\n",
       "      <td> Stop Pacifier Sucking without tears with Thumb...</td>\n",
       "      <td> This is a product well worth the purchase.  I ...</td>\n",
       "      <td> 5</td>\n",
       "    </tr>\n",
       "    <tr>\n",
       "      <th>4     </th>\n",
       "      <td> Stop Pacifier Sucking without tears with Thumb...</td>\n",
       "      <td> All of my kids have cried non-stop when I trie...</td>\n",
       "      <td> 5</td>\n",
       "    </tr>\n",
       "    <tr>\n",
       "      <th>5     </th>\n",
       "      <td> Stop Pacifier Sucking without tears with Thumb...</td>\n",
       "      <td> When the Binky Fairy came to our house, we did...</td>\n",
       "      <td> 5</td>\n",
       "    </tr>\n",
       "    <tr>\n",
       "      <th>6     </th>\n",
       "      <td>           A Tale of Baby's Days with Peter Rabbit</td>\n",
       "      <td> Lovely book, it's bound tightly so you may not...</td>\n",
       "      <td> 4</td>\n",
       "    </tr>\n",
       "    <tr>\n",
       "      <th>7     </th>\n",
       "      <td> Baby Tracker&amp;reg; - Daily Childcare Journal, S...</td>\n",
       "      <td> Perfect for new parents. We were able to keep ...</td>\n",
       "      <td> 5</td>\n",
       "    </tr>\n",
       "    <tr>\n",
       "      <th>8     </th>\n",
       "      <td> Baby Tracker&amp;reg; - Daily Childcare Journal, S...</td>\n",
       "      <td> A friend of mine pinned this product on Pinter...</td>\n",
       "      <td> 5</td>\n",
       "    </tr>\n",
       "    <tr>\n",
       "      <th>9     </th>\n",
       "      <td> Baby Tracker&amp;reg; - Daily Childcare Journal, S...</td>\n",
       "      <td> This has been an easy way for my nanny to reco...</td>\n",
       "      <td> 4</td>\n",
       "    </tr>\n",
       "    <tr>\n",
       "      <th>10    </th>\n",
       "      <td> Baby Tracker&amp;reg; - Daily Childcare Journal, S...</td>\n",
       "      <td> I love this journal and our nanny uses it ever...</td>\n",
       "      <td> 4</td>\n",
       "    </tr>\n",
       "    <tr>\n",
       "      <th>11    </th>\n",
       "      <td> Baby Tracker&amp;reg; - Daily Childcare Journal, S...</td>\n",
       "      <td> This book is perfect!  I'm a first time new mo...</td>\n",
       "      <td> 5</td>\n",
       "    </tr>\n",
       "    <tr>\n",
       "      <th>12    </th>\n",
       "      <td> Baby Tracker&amp;reg; - Daily Childcare Journal, S...</td>\n",
       "      <td> I originally just gave the nanny a pad of pape...</td>\n",
       "      <td> 4</td>\n",
       "    </tr>\n",
       "    <tr>\n",
       "      <th>13    </th>\n",
       "      <td> Baby Tracker&amp;reg; - Daily Childcare Journal, S...</td>\n",
       "      <td> I thought keeping a simple handwritten journal...</td>\n",
       "      <td> 3</td>\n",
       "    </tr>\n",
       "    <tr>\n",
       "      <th>14    </th>\n",
       "      <td>    Nature's Lullabies First Year Sticker Calendar</td>\n",
       "      <td> Space for monthly photos, info and a lot of us...</td>\n",
       "      <td> 5</td>\n",
       "    </tr>\n",
       "    <tr>\n",
       "      <th>15    </th>\n",
       "      <td>    Nature's Lullabies First Year Sticker Calendar</td>\n",
       "      <td> I bought this calender for myself for my secon...</td>\n",
       "      <td> 4</td>\n",
       "    </tr>\n",
       "    <tr>\n",
       "      <th>16    </th>\n",
       "      <td>    Nature's Lullabies First Year Sticker Calendar</td>\n",
       "      <td> I love this little calender, you can keep trac...</td>\n",
       "      <td> 5</td>\n",
       "    </tr>\n",
       "    <tr>\n",
       "      <th>17    </th>\n",
       "      <td>   Nature's Lullabies Second Year Sticker Calendar</td>\n",
       "      <td> This was the only calender I could find for th...</td>\n",
       "      <td> 5</td>\n",
       "    </tr>\n",
       "    <tr>\n",
       "      <th>18    </th>\n",
       "      <td>   Nature's Lullabies Second Year Sticker Calendar</td>\n",
       "      <td> I completed a calendar for my son's first year...</td>\n",
       "      <td> 4</td>\n",
       "    </tr>\n",
       "    <tr>\n",
       "      <th>19    </th>\n",
       "      <td>   Nature's Lullabies Second Year Sticker Calendar</td>\n",
       "      <td> We wanted to get something to keep track of ou...</td>\n",
       "      <td> 5</td>\n",
       "    </tr>\n",
       "    <tr>\n",
       "      <th>20    </th>\n",
       "      <td>   Nature's Lullabies Second Year Sticker Calendar</td>\n",
       "      <td> I had a hard time finding a second year calend...</td>\n",
       "      <td> 5</td>\n",
       "    </tr>\n",
       "    <tr>\n",
       "      <th>21    </th>\n",
       "      <td>   Nature's Lullabies Second Year Sticker Calendar</td>\n",
       "      <td> I only purchased a second-year calendar for my...</td>\n",
       "      <td> 2</td>\n",
       "    </tr>\n",
       "    <tr>\n",
       "      <th>22    </th>\n",
       "      <td>   Nature's Lullabies Second Year Sticker Calendar</td>\n",
       "      <td> I LOVE this calendar for recording events of m...</td>\n",
       "      <td> 5</td>\n",
       "    </tr>\n",
       "    <tr>\n",
       "      <th>23    </th>\n",
       "      <td>   Nature's Lullabies Second Year Sticker Calendar</td>\n",
       "      <td> Calendar is exactly as described, but I find t...</td>\n",
       "      <td> 3</td>\n",
       "    </tr>\n",
       "    <tr>\n",
       "      <th>24    </th>\n",
       "      <td>   Nature's Lullabies Second Year Sticker Calendar</td>\n",
       "      <td> Wife loves this calender. Comes with a lot of ...</td>\n",
       "      <td> 5</td>\n",
       "    </tr>\n",
       "    <tr>\n",
       "      <th>25    </th>\n",
       "      <td>   Nature's Lullabies Second Year Sticker Calendar</td>\n",
       "      <td> My daughter had her 1st baby over a year ago. ...</td>\n",
       "      <td> 5</td>\n",
       "    </tr>\n",
       "    <tr>\n",
       "      <th>26    </th>\n",
       "      <td>                      Baby's First Journal - Green</td>\n",
       "      <td> Extremely useful! As a new mom, tired and inex...</td>\n",
       "      <td> 5</td>\n",
       "    </tr>\n",
       "    <tr>\n",
       "      <th>27    </th>\n",
       "      <td>                       Lamaze Peekaboo, I Love You</td>\n",
       "      <td> My son loves peek a boo at this age of 9 month...</td>\n",
       "      <td> 3</td>\n",
       "    </tr>\n",
       "    <tr>\n",
       "      <th>28    </th>\n",
       "      <td>                       Lamaze Peekaboo, I Love You</td>\n",
       "      <td> One of baby's first and favorite books, and it...</td>\n",
       "      <td> 4</td>\n",
       "    </tr>\n",
       "    <tr>\n",
       "      <th>29    </th>\n",
       "      <td>                       Lamaze Peekaboo, I Love You</td>\n",
       "      <td> I like how the book has a hook to attach it to...</td>\n",
       "      <td> 5</td>\n",
       "    </tr>\n",
       "    <tr>\n",
       "      <th>...</th>\n",
       "      <td>...</td>\n",
       "      <td>...</td>\n",
       "      <td>...</td>\n",
       "    </tr>\n",
       "    <tr>\n",
       "      <th>183501</th>\n",
       "      <td> Maxboost iPhone 5S/5 Case - Protective Snap-on...</td>\n",
       "      <td> I received a free sample from VIPU program for...</td>\n",
       "      <td> 5</td>\n",
       "    </tr>\n",
       "    <tr>\n",
       "      <th>183502</th>\n",
       "      <td> Maxboost iPhone 5S/5 Case - Protective Snap-on...</td>\n",
       "      <td> It got here incredibly fast &amp; it is a nice dur...</td>\n",
       "      <td> 5</td>\n",
       "    </tr>\n",
       "    <tr>\n",
       "      <th>183503</th>\n",
       "      <td> Maxboost iPhone 5S/5 Case - Protective Snap-on...</td>\n",
       "      <td> I got this case in the mail today, it came on ...</td>\n",
       "      <td> 2</td>\n",
       "    </tr>\n",
       "    <tr>\n",
       "      <th>183504</th>\n",
       "      <td> Maxboost iPhone 5S/5 Case - Protective Snap-on...</td>\n",
       "      <td> Free caseLove it... The color was great firm h...</td>\n",
       "      <td> 5</td>\n",
       "    </tr>\n",
       "    <tr>\n",
       "      <th>183505</th>\n",
       "      <td> Maxboost iPhone 5S/5 Case - Protective Snap-on...</td>\n",
       "      <td> I received a free sample from VIPU program for...</td>\n",
       "      <td> 5</td>\n",
       "    </tr>\n",
       "    <tr>\n",
       "      <th>183506</th>\n",
       "      <td> Maxboost iPhone 5S/5 Case - Protective Snap-on...</td>\n",
       "      <td> This case definitely isn't cheap. It feels ver...</td>\n",
       "      <td> 5</td>\n",
       "    </tr>\n",
       "    <tr>\n",
       "      <th>183507</th>\n",
       "      <td> Maxboost iPhone 5S/5 Case - Protective Snap-on...</td>\n",
       "      <td> got this for my wife and she loves it would de...</td>\n",
       "      <td> 5</td>\n",
       "    </tr>\n",
       "    <tr>\n",
       "      <th>183508</th>\n",
       "      <td> Maxboost iPhone 5S/5 Case - Protective Snap-on...</td>\n",
       "      <td> love this case. It fit perfectly and the color...</td>\n",
       "      <td> 5</td>\n",
       "    </tr>\n",
       "    <tr>\n",
       "      <th>183509</th>\n",
       "      <td> Maxboost iPhone 5S/5 Case - Protective Snap-on...</td>\n",
       "      <td> this case is the greatest very cool and stylis...</td>\n",
       "      <td> 5</td>\n",
       "    </tr>\n",
       "    <tr>\n",
       "      <th>183510</th>\n",
       "      <td> Maxboost iPhone 5S/5 Case - Protective Snap-on...</td>\n",
       "      <td>             Great fit. Really love how red it is.</td>\n",
       "      <td> 5</td>\n",
       "    </tr>\n",
       "    <tr>\n",
       "      <th>183511</th>\n",
       "      <td> Maxboost iPhone 5S/5 Case - Protective Snap-on...</td>\n",
       "      <td> I received a free sample from VIPU program for...</td>\n",
       "      <td> 3</td>\n",
       "    </tr>\n",
       "    <tr>\n",
       "      <th>183512</th>\n",
       "      <td> Maxboost iPhone 5S/5 Case - Protective Snap-on...</td>\n",
       "      <td> *I received a free sample from VIPU program fo...</td>\n",
       "      <td> 5</td>\n",
       "    </tr>\n",
       "    <tr>\n",
       "      <th>183513</th>\n",
       "      <td> Maxboost iPhone 5S/5 Case - Protective Snap-on...</td>\n",
       "      <td> I was a very surprised by the quality of this ...</td>\n",
       "      <td> 5</td>\n",
       "    </tr>\n",
       "    <tr>\n",
       "      <th>183514</th>\n",
       "      <td> Maxboost iPhone 5S/5 Case - Protective Snap-on...</td>\n",
       "      <td> I received a free sample from VIPU program for...</td>\n",
       "      <td> 4</td>\n",
       "    </tr>\n",
       "    <tr>\n",
       "      <th>183515</th>\n",
       "      <td> Maxboost iPhone 5S/5 Case - Protective Snap-on...</td>\n",
       "      <td> I love this phone case!  My  iPhone is always ...</td>\n",
       "      <td> 5</td>\n",
       "    </tr>\n",
       "    <tr>\n",
       "      <th>183516</th>\n",
       "      <td> BoogieBulb&amp;reg; - The First True Cleanable &amp;am...</td>\n",
       "      <td> I've ordered a ton of &amp;#34;suckers&amp;#34; to try...</td>\n",
       "      <td> 3</td>\n",
       "    </tr>\n",
       "    <tr>\n",
       "      <th>183517</th>\n",
       "      <td> Baby Mucus Extractor, Nasal Aspirator From Dr....</td>\n",
       "      <td> I recieved this product free of charge and abs...</td>\n",
       "      <td> 5</td>\n",
       "    </tr>\n",
       "    <tr>\n",
       "      <th>183518</th>\n",
       "      <td> Baby Mucus Extractor, Nasal Aspirator From Dr....</td>\n",
       "      <td> The tube is soft and easy to use, and the tip ...</td>\n",
       "      <td> 5</td>\n",
       "    </tr>\n",
       "    <tr>\n",
       "      <th>183519</th>\n",
       "      <td> Baby Mucus Extractor, Nasal Aspirator From Dr....</td>\n",
       "      <td> I love this so much. It works way better than ...</td>\n",
       "      <td> 5</td>\n",
       "    </tr>\n",
       "    <tr>\n",
       "      <th>183520</th>\n",
       "      <td> Baby Mucus Extractor, Nasal Aspirator From Dr....</td>\n",
       "      <td> The aspirator works well but needs to come wit...</td>\n",
       "      <td> 4</td>\n",
       "    </tr>\n",
       "    <tr>\n",
       "      <th>183521</th>\n",
       "      <td> Airline Seat Belt Extender - The Best Extensio...</td>\n",
       "      <td> Up until recently I have hated flying, putting...</td>\n",
       "      <td> 5</td>\n",
       "    </tr>\n",
       "    <tr>\n",
       "      <th>183522</th>\n",
       "      <td> Airline Seat Belt Extender - The Best Extensio...</td>\n",
       "      <td> I bought this as a father's day gift for my da...</td>\n",
       "      <td> 5</td>\n",
       "    </tr>\n",
       "    <tr>\n",
       "      <th>183523</th>\n",
       "      <td> Squeasy Snacker 6oz Silicone Reusable Food Pou...</td>\n",
       "      <td> I love that these can hold purees OR liquids, ...</td>\n",
       "      <td> 5</td>\n",
       "    </tr>\n",
       "    <tr>\n",
       "      <th>183524</th>\n",
       "      <td> Squeasy Snacker 6oz Silicone Reusable Food Pou...</td>\n",
       "      <td> I love this product, it makes my life easier. ...</td>\n",
       "      <td> 5</td>\n",
       "    </tr>\n",
       "    <tr>\n",
       "      <th>183525</th>\n",
       "      <td> Squeasy Snacker 6oz Silicone Reusable Food Pou...</td>\n",
       "      <td> This reusable squeeze bottle is the best I hav...</td>\n",
       "      <td> 5</td>\n",
       "    </tr>\n",
       "    <tr>\n",
       "      <th>183526</th>\n",
       "      <td> Baby Teething Necklace for Mom Pretty Donut Sh...</td>\n",
       "      <td> Such a great idea! very handy to have and look...</td>\n",
       "      <td> 5</td>\n",
       "    </tr>\n",
       "    <tr>\n",
       "      <th>183527</th>\n",
       "      <td> Baby Teething Necklace for Mom Pretty Donut Sh...</td>\n",
       "      <td> This product rocks!  It is a great blend of fu...</td>\n",
       "      <td> 5</td>\n",
       "    </tr>\n",
       "    <tr>\n",
       "      <th>183528</th>\n",
       "      <td>  Abstract 2 PK Baby / Toddler Training Cup (Pink)</td>\n",
       "      <td> This item looks great and cool for my kids.......</td>\n",
       "      <td> 5</td>\n",
       "    </tr>\n",
       "    <tr>\n",
       "      <th>183529</th>\n",
       "      <td> Baby Food Freezer Tray - Bacteria Resistant, B...</td>\n",
       "      <td> I am extremely happy with this product. I have...</td>\n",
       "      <td> 5</td>\n",
       "    </tr>\n",
       "    <tr>\n",
       "      <th>183530</th>\n",
       "      <td> Best 2 Pack Baby Car Shade for Kids - Window S...</td>\n",
       "      <td> I love this product very mush . I have bought ...</td>\n",
       "      <td> 5</td>\n",
       "    </tr>\n",
       "  </tbody>\n",
       "</table>\n",
       "<p>183531 rows × 3 columns</p>\n",
       "</div>"
      ],
      "text/plain": [
       "                                                     name  \\\n",
       "0                                Planetwise Flannel Wipes   \n",
       "1                                   Planetwise Wipe Pouch   \n",
       "2                     Annas Dream Full Quilt with 2 Shams   \n",
       "3       Stop Pacifier Sucking without tears with Thumb...   \n",
       "4       Stop Pacifier Sucking without tears with Thumb...   \n",
       "5       Stop Pacifier Sucking without tears with Thumb...   \n",
       "6                 A Tale of Baby's Days with Peter Rabbit   \n",
       "7       Baby Tracker&reg; - Daily Childcare Journal, S...   \n",
       "8       Baby Tracker&reg; - Daily Childcare Journal, S...   \n",
       "9       Baby Tracker&reg; - Daily Childcare Journal, S...   \n",
       "10      Baby Tracker&reg; - Daily Childcare Journal, S...   \n",
       "11      Baby Tracker&reg; - Daily Childcare Journal, S...   \n",
       "12      Baby Tracker&reg; - Daily Childcare Journal, S...   \n",
       "13      Baby Tracker&reg; - Daily Childcare Journal, S...   \n",
       "14         Nature's Lullabies First Year Sticker Calendar   \n",
       "15         Nature's Lullabies First Year Sticker Calendar   \n",
       "16         Nature's Lullabies First Year Sticker Calendar   \n",
       "17        Nature's Lullabies Second Year Sticker Calendar   \n",
       "18        Nature's Lullabies Second Year Sticker Calendar   \n",
       "19        Nature's Lullabies Second Year Sticker Calendar   \n",
       "20        Nature's Lullabies Second Year Sticker Calendar   \n",
       "21        Nature's Lullabies Second Year Sticker Calendar   \n",
       "22        Nature's Lullabies Second Year Sticker Calendar   \n",
       "23        Nature's Lullabies Second Year Sticker Calendar   \n",
       "24        Nature's Lullabies Second Year Sticker Calendar   \n",
       "25        Nature's Lullabies Second Year Sticker Calendar   \n",
       "26                           Baby's First Journal - Green   \n",
       "27                            Lamaze Peekaboo, I Love You   \n",
       "28                            Lamaze Peekaboo, I Love You   \n",
       "29                            Lamaze Peekaboo, I Love You   \n",
       "...                                                   ...   \n",
       "183501  Maxboost iPhone 5S/5 Case - Protective Snap-on...   \n",
       "183502  Maxboost iPhone 5S/5 Case - Protective Snap-on...   \n",
       "183503  Maxboost iPhone 5S/5 Case - Protective Snap-on...   \n",
       "183504  Maxboost iPhone 5S/5 Case - Protective Snap-on...   \n",
       "183505  Maxboost iPhone 5S/5 Case - Protective Snap-on...   \n",
       "183506  Maxboost iPhone 5S/5 Case - Protective Snap-on...   \n",
       "183507  Maxboost iPhone 5S/5 Case - Protective Snap-on...   \n",
       "183508  Maxboost iPhone 5S/5 Case - Protective Snap-on...   \n",
       "183509  Maxboost iPhone 5S/5 Case - Protective Snap-on...   \n",
       "183510  Maxboost iPhone 5S/5 Case - Protective Snap-on...   \n",
       "183511  Maxboost iPhone 5S/5 Case - Protective Snap-on...   \n",
       "183512  Maxboost iPhone 5S/5 Case - Protective Snap-on...   \n",
       "183513  Maxboost iPhone 5S/5 Case - Protective Snap-on...   \n",
       "183514  Maxboost iPhone 5S/5 Case - Protective Snap-on...   \n",
       "183515  Maxboost iPhone 5S/5 Case - Protective Snap-on...   \n",
       "183516  BoogieBulb&reg; - The First True Cleanable &am...   \n",
       "183517  Baby Mucus Extractor, Nasal Aspirator From Dr....   \n",
       "183518  Baby Mucus Extractor, Nasal Aspirator From Dr....   \n",
       "183519  Baby Mucus Extractor, Nasal Aspirator From Dr....   \n",
       "183520  Baby Mucus Extractor, Nasal Aspirator From Dr....   \n",
       "183521  Airline Seat Belt Extender - The Best Extensio...   \n",
       "183522  Airline Seat Belt Extender - The Best Extensio...   \n",
       "183523  Squeasy Snacker 6oz Silicone Reusable Food Pou...   \n",
       "183524  Squeasy Snacker 6oz Silicone Reusable Food Pou...   \n",
       "183525  Squeasy Snacker 6oz Silicone Reusable Food Pou...   \n",
       "183526  Baby Teething Necklace for Mom Pretty Donut Sh...   \n",
       "183527  Baby Teething Necklace for Mom Pretty Donut Sh...   \n",
       "183528   Abstract 2 PK Baby / Toddler Training Cup (Pink)   \n",
       "183529  Baby Food Freezer Tray - Bacteria Resistant, B...   \n",
       "183530  Best 2 Pack Baby Car Shade for Kids - Window S...   \n",
       "\n",
       "                                                   review  rating  \n",
       "0       These flannel wipes are OK, but in my opinion ...       3  \n",
       "1       it came early and was not disappointed. i love...       5  \n",
       "2       Very soft and comfortable and warmer than it l...       5  \n",
       "3       This is a product well worth the purchase.  I ...       5  \n",
       "4       All of my kids have cried non-stop when I trie...       5  \n",
       "5       When the Binky Fairy came to our house, we did...       5  \n",
       "6       Lovely book, it's bound tightly so you may not...       4  \n",
       "7       Perfect for new parents. We were able to keep ...       5  \n",
       "8       A friend of mine pinned this product on Pinter...       5  \n",
       "9       This has been an easy way for my nanny to reco...       4  \n",
       "10      I love this journal and our nanny uses it ever...       4  \n",
       "11      This book is perfect!  I'm a first time new mo...       5  \n",
       "12      I originally just gave the nanny a pad of pape...       4  \n",
       "13      I thought keeping a simple handwritten journal...       3  \n",
       "14      Space for monthly photos, info and a lot of us...       5  \n",
       "15      I bought this calender for myself for my secon...       4  \n",
       "16      I love this little calender, you can keep trac...       5  \n",
       "17      This was the only calender I could find for th...       5  \n",
       "18      I completed a calendar for my son's first year...       4  \n",
       "19      We wanted to get something to keep track of ou...       5  \n",
       "20      I had a hard time finding a second year calend...       5  \n",
       "21      I only purchased a second-year calendar for my...       2  \n",
       "22      I LOVE this calendar for recording events of m...       5  \n",
       "23      Calendar is exactly as described, but I find t...       3  \n",
       "24      Wife loves this calender. Comes with a lot of ...       5  \n",
       "25      My daughter had her 1st baby over a year ago. ...       5  \n",
       "26      Extremely useful! As a new mom, tired and inex...       5  \n",
       "27      My son loves peek a boo at this age of 9 month...       3  \n",
       "28      One of baby's first and favorite books, and it...       4  \n",
       "29      I like how the book has a hook to attach it to...       5  \n",
       "...                                                   ...     ...  \n",
       "183501  I received a free sample from VIPU program for...       5  \n",
       "183502  It got here incredibly fast & it is a nice dur...       5  \n",
       "183503  I got this case in the mail today, it came on ...       2  \n",
       "183504  Free caseLove it... The color was great firm h...       5  \n",
       "183505  I received a free sample from VIPU program for...       5  \n",
       "183506  This case definitely isn't cheap. It feels ver...       5  \n",
       "183507  got this for my wife and she loves it would de...       5  \n",
       "183508  love this case. It fit perfectly and the color...       5  \n",
       "183509  this case is the greatest very cool and stylis...       5  \n",
       "183510              Great fit. Really love how red it is.       5  \n",
       "183511  I received a free sample from VIPU program for...       3  \n",
       "183512  *I received a free sample from VIPU program fo...       5  \n",
       "183513  I was a very surprised by the quality of this ...       5  \n",
       "183514  I received a free sample from VIPU program for...       4  \n",
       "183515  I love this phone case!  My  iPhone is always ...       5  \n",
       "183516  I've ordered a ton of &#34;suckers&#34; to try...       3  \n",
       "183517  I recieved this product free of charge and abs...       5  \n",
       "183518  The tube is soft and easy to use, and the tip ...       5  \n",
       "183519  I love this so much. It works way better than ...       5  \n",
       "183520  The aspirator works well but needs to come wit...       4  \n",
       "183521  Up until recently I have hated flying, putting...       5  \n",
       "183522  I bought this as a father's day gift for my da...       5  \n",
       "183523  I love that these can hold purees OR liquids, ...       5  \n",
       "183524  I love this product, it makes my life easier. ...       5  \n",
       "183525  This reusable squeeze bottle is the best I hav...       5  \n",
       "183526  Such a great idea! very handy to have and look...       5  \n",
       "183527  This product rocks!  It is a great blend of fu...       5  \n",
       "183528  This item looks great and cool for my kids.......       5  \n",
       "183529  I am extremely happy with this product. I have...       5  \n",
       "183530  I love this product very mush . I have bought ...       5  \n",
       "\n",
       "[183531 rows x 3 columns]"
      ]
     },
     "execution_count": 3,
     "metadata": {},
     "output_type": "execute_result"
    }
   ],
   "source": [
    "products"
   ]
  },
  {
   "cell_type": "markdown",
   "metadata": {},
   "source": [
    "## Build the word count vector for each review"
   ]
  },
  {
   "cell_type": "markdown",
   "metadata": {},
   "source": [
    "Let us explore a specific example of a baby product.\n"
   ]
  },
  {
   "cell_type": "code",
   "execution_count": 4,
   "metadata": {
    "collapsed": false
   },
   "outputs": [
    {
     "data": {
      "text/plain": [
       "name      The First Years Massaging Action Teether\n",
       "review                    A favorite in our house!\n",
       "rating                                           5\n",
       "Name: 269, dtype: object"
      ]
     },
     "execution_count": 4,
     "metadata": {},
     "output_type": "execute_result"
    }
   ],
   "source": [
    "products.iloc[269]"
   ]
  },
  {
   "cell_type": "markdown",
   "metadata": {},
   "source": [
    "Now, we will perform 2 simple data transformations:\n",
    "\n",
    "1. Remove punctuation using [Python's built-in](https://docs.python.org/2/library/string.html) string functionality.\n",
    "2. Transform the reviews into word-counts.\n",
    "\n",
    "**Aside**. In this notebook, we remove all punctuations for the sake of simplicity. A smarter approach to punctuations would preserve phrases such as \"I'd\", \"would've\", \"hadn't\" and so forth. See [this page](https://www.cis.upenn.edu/~treebank/tokenization.html) for an example of smart handling of punctuations."
   ]
  },
  {
   "cell_type": "code",
   "execution_count": 5,
   "metadata": {
    "collapsed": false
   },
   "outputs": [],
   "source": [
    "def remove_punctuation(text):\n",
    "    if isinstance(text, basestring):\n",
    "        import string\n",
    "        return text.translate(None, string.punctuation) \n",
    "    else:\n",
    "        return ''"
   ]
  },
  {
   "cell_type": "code",
   "execution_count": 6,
   "metadata": {
    "collapsed": true
   },
   "outputs": [],
   "source": [
    "products['review_clean'] = products['review'].apply(remove_punctuation)"
   ]
  },
  {
   "cell_type": "markdown",
   "metadata": {},
   "source": [
    "## Extract sentiments\n",
    "\n",
    "We will **ignore** all reviews with *rating = 3*, since they tend to have a neutral sentiment."
   ]
  },
  {
   "cell_type": "code",
   "execution_count": 7,
   "metadata": {
    "collapsed": false
   },
   "outputs": [
    {
     "data": {
      "text/plain": [
       "166752"
      ]
     },
     "execution_count": 7,
     "metadata": {},
     "output_type": "execute_result"
    }
   ],
   "source": [
    "products = products[products['rating'] != 3]\n",
    "len(products)"
   ]
  },
  {
   "cell_type": "markdown",
   "metadata": {},
   "source": [
    "Now, we will assign reviews with a rating of 4 or higher to be *positive* reviews, while the ones with rating of 2 or lower are *negative*. For the sentiment column, we use +1 for the positive class label and -1 for the negative class label."
   ]
  },
  {
   "cell_type": "code",
   "execution_count": 8,
   "metadata": {
    "collapsed": false
   },
   "outputs": [
    {
     "name": "stderr",
     "output_type": "stream",
     "text": [
      "C:\\Anaconda2\\envs\\dato-env-2.7.9\\lib\\site-packages\\ipykernel\\__main__.py:1: SettingWithCopyWarning: \n",
      "A value is trying to be set on a copy of a slice from a DataFrame.\n",
      "Try using .loc[row_indexer,col_indexer] = value instead\n",
      "\n",
      "See the the caveats in the documentation: http://pandas.pydata.org/pandas-docs/stable/indexing.html#indexing-view-versus-copy\n",
      "  if __name__ == '__main__':\n"
     ]
    },
    {
     "data": {
      "text/html": [
       "<div style=\"max-height:1000px;max-width:1500px;overflow:auto;\">\n",
       "<table border=\"1\" class=\"dataframe\">\n",
       "  <thead>\n",
       "    <tr style=\"text-align: right;\">\n",
       "      <th></th>\n",
       "      <th>name</th>\n",
       "      <th>review</th>\n",
       "      <th>rating</th>\n",
       "      <th>review_clean</th>\n",
       "      <th>sentiment</th>\n",
       "    </tr>\n",
       "  </thead>\n",
       "  <tbody>\n",
       "    <tr>\n",
       "      <th>1     </th>\n",
       "      <td>                             Planetwise Wipe Pouch</td>\n",
       "      <td> it came early and was not disappointed. i love...</td>\n",
       "      <td> 5</td>\n",
       "      <td> it came early and was not disappointed i love ...</td>\n",
       "      <td> 1</td>\n",
       "    </tr>\n",
       "    <tr>\n",
       "      <th>2     </th>\n",
       "      <td>               Annas Dream Full Quilt with 2 Shams</td>\n",
       "      <td> Very soft and comfortable and warmer than it l...</td>\n",
       "      <td> 5</td>\n",
       "      <td> Very soft and comfortable and warmer than it l...</td>\n",
       "      <td> 1</td>\n",
       "    </tr>\n",
       "    <tr>\n",
       "      <th>3     </th>\n",
       "      <td> Stop Pacifier Sucking without tears with Thumb...</td>\n",
       "      <td> This is a product well worth the purchase.  I ...</td>\n",
       "      <td> 5</td>\n",
       "      <td> This is a product well worth the purchase  I h...</td>\n",
       "      <td> 1</td>\n",
       "    </tr>\n",
       "    <tr>\n",
       "      <th>4     </th>\n",
       "      <td> Stop Pacifier Sucking without tears with Thumb...</td>\n",
       "      <td> All of my kids have cried non-stop when I trie...</td>\n",
       "      <td> 5</td>\n",
       "      <td> All of my kids have cried nonstop when I tried...</td>\n",
       "      <td> 1</td>\n",
       "    </tr>\n",
       "    <tr>\n",
       "      <th>5     </th>\n",
       "      <td> Stop Pacifier Sucking without tears with Thumb...</td>\n",
       "      <td> When the Binky Fairy came to our house, we did...</td>\n",
       "      <td> 5</td>\n",
       "      <td> When the Binky Fairy came to our house we didn...</td>\n",
       "      <td> 1</td>\n",
       "    </tr>\n",
       "    <tr>\n",
       "      <th>6     </th>\n",
       "      <td>           A Tale of Baby's Days with Peter Rabbit</td>\n",
       "      <td> Lovely book, it's bound tightly so you may not...</td>\n",
       "      <td> 4</td>\n",
       "      <td> Lovely book its bound tightly so you may not b...</td>\n",
       "      <td> 1</td>\n",
       "    </tr>\n",
       "    <tr>\n",
       "      <th>7     </th>\n",
       "      <td> Baby Tracker&amp;reg; - Daily Childcare Journal, S...</td>\n",
       "      <td> Perfect for new parents. We were able to keep ...</td>\n",
       "      <td> 5</td>\n",
       "      <td> Perfect for new parents We were able to keep t...</td>\n",
       "      <td> 1</td>\n",
       "    </tr>\n",
       "    <tr>\n",
       "      <th>8     </th>\n",
       "      <td> Baby Tracker&amp;reg; - Daily Childcare Journal, S...</td>\n",
       "      <td> A friend of mine pinned this product on Pinter...</td>\n",
       "      <td> 5</td>\n",
       "      <td> A friend of mine pinned this product on Pinter...</td>\n",
       "      <td> 1</td>\n",
       "    </tr>\n",
       "    <tr>\n",
       "      <th>9     </th>\n",
       "      <td> Baby Tracker&amp;reg; - Daily Childcare Journal, S...</td>\n",
       "      <td> This has been an easy way for my nanny to reco...</td>\n",
       "      <td> 4</td>\n",
       "      <td> This has been an easy way for my nanny to reco...</td>\n",
       "      <td> 1</td>\n",
       "    </tr>\n",
       "    <tr>\n",
       "      <th>10    </th>\n",
       "      <td> Baby Tracker&amp;reg; - Daily Childcare Journal, S...</td>\n",
       "      <td> I love this journal and our nanny uses it ever...</td>\n",
       "      <td> 4</td>\n",
       "      <td> I love this journal and our nanny uses it ever...</td>\n",
       "      <td> 1</td>\n",
       "    </tr>\n",
       "    <tr>\n",
       "      <th>11    </th>\n",
       "      <td> Baby Tracker&amp;reg; - Daily Childcare Journal, S...</td>\n",
       "      <td> This book is perfect!  I'm a first time new mo...</td>\n",
       "      <td> 5</td>\n",
       "      <td> This book is perfect  Im a first time new mom ...</td>\n",
       "      <td> 1</td>\n",
       "    </tr>\n",
       "    <tr>\n",
       "      <th>12    </th>\n",
       "      <td> Baby Tracker&amp;reg; - Daily Childcare Journal, S...</td>\n",
       "      <td> I originally just gave the nanny a pad of pape...</td>\n",
       "      <td> 4</td>\n",
       "      <td> I originally just gave the nanny a pad of pape...</td>\n",
       "      <td> 1</td>\n",
       "    </tr>\n",
       "    <tr>\n",
       "      <th>14    </th>\n",
       "      <td>    Nature's Lullabies First Year Sticker Calendar</td>\n",
       "      <td> Space for monthly photos, info and a lot of us...</td>\n",
       "      <td> 5</td>\n",
       "      <td> Space for monthly photos info and a lot of use...</td>\n",
       "      <td> 1</td>\n",
       "    </tr>\n",
       "    <tr>\n",
       "      <th>15    </th>\n",
       "      <td>    Nature's Lullabies First Year Sticker Calendar</td>\n",
       "      <td> I bought this calender for myself for my secon...</td>\n",
       "      <td> 4</td>\n",
       "      <td> I bought this calender for myself for my secon...</td>\n",
       "      <td> 1</td>\n",
       "    </tr>\n",
       "    <tr>\n",
       "      <th>16    </th>\n",
       "      <td>    Nature's Lullabies First Year Sticker Calendar</td>\n",
       "      <td> I love this little calender, you can keep trac...</td>\n",
       "      <td> 5</td>\n",
       "      <td> I love this little calender you can keep track...</td>\n",
       "      <td> 1</td>\n",
       "    </tr>\n",
       "    <tr>\n",
       "      <th>17    </th>\n",
       "      <td>   Nature's Lullabies Second Year Sticker Calendar</td>\n",
       "      <td> This was the only calender I could find for th...</td>\n",
       "      <td> 5</td>\n",
       "      <td> This was the only calender I could find for th...</td>\n",
       "      <td> 1</td>\n",
       "    </tr>\n",
       "    <tr>\n",
       "      <th>18    </th>\n",
       "      <td>   Nature's Lullabies Second Year Sticker Calendar</td>\n",
       "      <td> I completed a calendar for my son's first year...</td>\n",
       "      <td> 4</td>\n",
       "      <td> I completed a calendar for my sons first year ...</td>\n",
       "      <td> 1</td>\n",
       "    </tr>\n",
       "    <tr>\n",
       "      <th>19    </th>\n",
       "      <td>   Nature's Lullabies Second Year Sticker Calendar</td>\n",
       "      <td> We wanted to get something to keep track of ou...</td>\n",
       "      <td> 5</td>\n",
       "      <td> We wanted to get something to keep track of ou...</td>\n",
       "      <td> 1</td>\n",
       "    </tr>\n",
       "    <tr>\n",
       "      <th>20    </th>\n",
       "      <td>   Nature's Lullabies Second Year Sticker Calendar</td>\n",
       "      <td> I had a hard time finding a second year calend...</td>\n",
       "      <td> 5</td>\n",
       "      <td> I had a hard time finding a second year calend...</td>\n",
       "      <td> 1</td>\n",
       "    </tr>\n",
       "    <tr>\n",
       "      <th>21    </th>\n",
       "      <td>   Nature's Lullabies Second Year Sticker Calendar</td>\n",
       "      <td> I only purchased a second-year calendar for my...</td>\n",
       "      <td> 2</td>\n",
       "      <td> I only purchased a secondyear calendar for my ...</td>\n",
       "      <td>-1</td>\n",
       "    </tr>\n",
       "    <tr>\n",
       "      <th>22    </th>\n",
       "      <td>   Nature's Lullabies Second Year Sticker Calendar</td>\n",
       "      <td> I LOVE this calendar for recording events of m...</td>\n",
       "      <td> 5</td>\n",
       "      <td> I LOVE this calendar for recording events of m...</td>\n",
       "      <td> 1</td>\n",
       "    </tr>\n",
       "    <tr>\n",
       "      <th>24    </th>\n",
       "      <td>   Nature's Lullabies Second Year Sticker Calendar</td>\n",
       "      <td> Wife loves this calender. Comes with a lot of ...</td>\n",
       "      <td> 5</td>\n",
       "      <td> Wife loves this calender Comes with a lot of s...</td>\n",
       "      <td> 1</td>\n",
       "    </tr>\n",
       "    <tr>\n",
       "      <th>25    </th>\n",
       "      <td>   Nature's Lullabies Second Year Sticker Calendar</td>\n",
       "      <td> My daughter had her 1st baby over a year ago. ...</td>\n",
       "      <td> 5</td>\n",
       "      <td> My daughter had her 1st baby over a year ago S...</td>\n",
       "      <td> 1</td>\n",
       "    </tr>\n",
       "    <tr>\n",
       "      <th>26    </th>\n",
       "      <td>                      Baby's First Journal - Green</td>\n",
       "      <td> Extremely useful! As a new mom, tired and inex...</td>\n",
       "      <td> 5</td>\n",
       "      <td> Extremely useful As a new mom tired and inexpe...</td>\n",
       "      <td> 1</td>\n",
       "    </tr>\n",
       "    <tr>\n",
       "      <th>28    </th>\n",
       "      <td>                       Lamaze Peekaboo, I Love You</td>\n",
       "      <td> One of baby's first and favorite books, and it...</td>\n",
       "      <td> 4</td>\n",
       "      <td> One of babys first and favorite books and it i...</td>\n",
       "      <td> 1</td>\n",
       "    </tr>\n",
       "    <tr>\n",
       "      <th>29    </th>\n",
       "      <td>                       Lamaze Peekaboo, I Love You</td>\n",
       "      <td> I like how the book has a hook to attach it to...</td>\n",
       "      <td> 5</td>\n",
       "      <td> I like how the book has a hook to attach it to...</td>\n",
       "      <td> 1</td>\n",
       "    </tr>\n",
       "    <tr>\n",
       "      <th>30    </th>\n",
       "      <td>                       Lamaze Peekaboo, I Love You</td>\n",
       "      <td> Beautiful little book.  A great little short s...</td>\n",
       "      <td> 5</td>\n",
       "      <td> Beautiful little book  A great little short st...</td>\n",
       "      <td> 1</td>\n",
       "    </tr>\n",
       "    <tr>\n",
       "      <th>31    </th>\n",
       "      <td>                       Lamaze Peekaboo, I Love You</td>\n",
       "      <td> This book is so worth the money. It says 9+ mo...</td>\n",
       "      <td> 5</td>\n",
       "      <td> This book is so worth the money It says 9 mont...</td>\n",
       "      <td> 1</td>\n",
       "    </tr>\n",
       "    <tr>\n",
       "      <th>32    </th>\n",
       "      <td>                       Lamaze Peekaboo, I Love You</td>\n",
       "      <td> we just got this book for our one-year-old and...</td>\n",
       "      <td> 5</td>\n",
       "      <td> we just got this book for our oneyearold and s...</td>\n",
       "      <td> 1</td>\n",
       "    </tr>\n",
       "    <tr>\n",
       "      <th>33    </th>\n",
       "      <td>                       Lamaze Peekaboo, I Love You</td>\n",
       "      <td> The book is colorful and is perfect for 6month...</td>\n",
       "      <td> 4</td>\n",
       "      <td> The book is colorful and is perfect for 6month...</td>\n",
       "      <td> 1</td>\n",
       "    </tr>\n",
       "    <tr>\n",
       "      <th>...</th>\n",
       "      <td>...</td>\n",
       "      <td>...</td>\n",
       "      <td>...</td>\n",
       "      <td>...</td>\n",
       "      <td>...</td>\n",
       "    </tr>\n",
       "    <tr>\n",
       "      <th>183499</th>\n",
       "      <td> Maxboost iPhone 5S/5 Case - Protective Snap-on...</td>\n",
       "      <td> I received a free sample from VIPU program for...</td>\n",
       "      <td> 5</td>\n",
       "      <td> I received a free sample from VIPU program for...</td>\n",
       "      <td> 1</td>\n",
       "    </tr>\n",
       "    <tr>\n",
       "      <th>183500</th>\n",
       "      <td> Maxboost iPhone 5S/5 Case - Protective Snap-on...</td>\n",
       "      <td> Great product, great company! Their daily give...</td>\n",
       "      <td> 5</td>\n",
       "      <td> Great product great company Their daily giveaw...</td>\n",
       "      <td> 1</td>\n",
       "    </tr>\n",
       "    <tr>\n",
       "      <th>183501</th>\n",
       "      <td> Maxboost iPhone 5S/5 Case - Protective Snap-on...</td>\n",
       "      <td> I received a free sample from VIPU program for...</td>\n",
       "      <td> 5</td>\n",
       "      <td> I received a free sample from VIPU program for...</td>\n",
       "      <td> 1</td>\n",
       "    </tr>\n",
       "    <tr>\n",
       "      <th>183502</th>\n",
       "      <td> Maxboost iPhone 5S/5 Case - Protective Snap-on...</td>\n",
       "      <td> It got here incredibly fast &amp; it is a nice dur...</td>\n",
       "      <td> 5</td>\n",
       "      <td> It got here incredibly fast  it is a nice dura...</td>\n",
       "      <td> 1</td>\n",
       "    </tr>\n",
       "    <tr>\n",
       "      <th>183503</th>\n",
       "      <td> Maxboost iPhone 5S/5 Case - Protective Snap-on...</td>\n",
       "      <td> I got this case in the mail today, it came on ...</td>\n",
       "      <td> 2</td>\n",
       "      <td> I got this case in the mail today it came on t...</td>\n",
       "      <td>-1</td>\n",
       "    </tr>\n",
       "    <tr>\n",
       "      <th>183504</th>\n",
       "      <td> Maxboost iPhone 5S/5 Case - Protective Snap-on...</td>\n",
       "      <td> Free caseLove it... The color was great firm h...</td>\n",
       "      <td> 5</td>\n",
       "      <td> Free caseLove it The color was great firm hold...</td>\n",
       "      <td> 1</td>\n",
       "    </tr>\n",
       "    <tr>\n",
       "      <th>183505</th>\n",
       "      <td> Maxboost iPhone 5S/5 Case - Protective Snap-on...</td>\n",
       "      <td> I received a free sample from VIPU program for...</td>\n",
       "      <td> 5</td>\n",
       "      <td> I received a free sample from VIPU program for...</td>\n",
       "      <td> 1</td>\n",
       "    </tr>\n",
       "    <tr>\n",
       "      <th>183506</th>\n",
       "      <td> Maxboost iPhone 5S/5 Case - Protective Snap-on...</td>\n",
       "      <td> This case definitely isn't cheap. It feels ver...</td>\n",
       "      <td> 5</td>\n",
       "      <td> This case definitely isnt cheap It feels very ...</td>\n",
       "      <td> 1</td>\n",
       "    </tr>\n",
       "    <tr>\n",
       "      <th>183507</th>\n",
       "      <td> Maxboost iPhone 5S/5 Case - Protective Snap-on...</td>\n",
       "      <td> got this for my wife and she loves it would de...</td>\n",
       "      <td> 5</td>\n",
       "      <td> got this for my wife and she loves it would de...</td>\n",
       "      <td> 1</td>\n",
       "    </tr>\n",
       "    <tr>\n",
       "      <th>183508</th>\n",
       "      <td> Maxboost iPhone 5S/5 Case - Protective Snap-on...</td>\n",
       "      <td> love this case. It fit perfectly and the color...</td>\n",
       "      <td> 5</td>\n",
       "      <td> love this case It fit perfectly and the color ...</td>\n",
       "      <td> 1</td>\n",
       "    </tr>\n",
       "    <tr>\n",
       "      <th>183509</th>\n",
       "      <td> Maxboost iPhone 5S/5 Case - Protective Snap-on...</td>\n",
       "      <td> this case is the greatest very cool and stylis...</td>\n",
       "      <td> 5</td>\n",
       "      <td> this case is the greatest very cool and stylis...</td>\n",
       "      <td> 1</td>\n",
       "    </tr>\n",
       "    <tr>\n",
       "      <th>183510</th>\n",
       "      <td> Maxboost iPhone 5S/5 Case - Protective Snap-on...</td>\n",
       "      <td>             Great fit. Really love how red it is.</td>\n",
       "      <td> 5</td>\n",
       "      <td>               Great fit Really love how red it is</td>\n",
       "      <td> 1</td>\n",
       "    </tr>\n",
       "    <tr>\n",
       "      <th>183512</th>\n",
       "      <td> Maxboost iPhone 5S/5 Case - Protective Snap-on...</td>\n",
       "      <td> *I received a free sample from VIPU program fo...</td>\n",
       "      <td> 5</td>\n",
       "      <td> I received a free sample from VIPU program for...</td>\n",
       "      <td> 1</td>\n",
       "    </tr>\n",
       "    <tr>\n",
       "      <th>183513</th>\n",
       "      <td> Maxboost iPhone 5S/5 Case - Protective Snap-on...</td>\n",
       "      <td> I was a very surprised by the quality of this ...</td>\n",
       "      <td> 5</td>\n",
       "      <td> I was a very surprised by the quality of this ...</td>\n",
       "      <td> 1</td>\n",
       "    </tr>\n",
       "    <tr>\n",
       "      <th>183514</th>\n",
       "      <td> Maxboost iPhone 5S/5 Case - Protective Snap-on...</td>\n",
       "      <td> I received a free sample from VIPU program for...</td>\n",
       "      <td> 4</td>\n",
       "      <td> I received a free sample from VIPU program for...</td>\n",
       "      <td> 1</td>\n",
       "    </tr>\n",
       "    <tr>\n",
       "      <th>183515</th>\n",
       "      <td> Maxboost iPhone 5S/5 Case - Protective Snap-on...</td>\n",
       "      <td> I love this phone case!  My  iPhone is always ...</td>\n",
       "      <td> 5</td>\n",
       "      <td> I love this phone case  My  iPhone is always s...</td>\n",
       "      <td> 1</td>\n",
       "    </tr>\n",
       "    <tr>\n",
       "      <th>183517</th>\n",
       "      <td> Baby Mucus Extractor, Nasal Aspirator From Dr....</td>\n",
       "      <td> I recieved this product free of charge and abs...</td>\n",
       "      <td> 5</td>\n",
       "      <td> I recieved this product free of charge and abs...</td>\n",
       "      <td> 1</td>\n",
       "    </tr>\n",
       "    <tr>\n",
       "      <th>183518</th>\n",
       "      <td> Baby Mucus Extractor, Nasal Aspirator From Dr....</td>\n",
       "      <td> The tube is soft and easy to use, and the tip ...</td>\n",
       "      <td> 5</td>\n",
       "      <td> The tube is soft and easy to use and the tip i...</td>\n",
       "      <td> 1</td>\n",
       "    </tr>\n",
       "    <tr>\n",
       "      <th>183519</th>\n",
       "      <td> Baby Mucus Extractor, Nasal Aspirator From Dr....</td>\n",
       "      <td> I love this so much. It works way better than ...</td>\n",
       "      <td> 5</td>\n",
       "      <td> I love this so much It works way better than t...</td>\n",
       "      <td> 1</td>\n",
       "    </tr>\n",
       "    <tr>\n",
       "      <th>183520</th>\n",
       "      <td> Baby Mucus Extractor, Nasal Aspirator From Dr....</td>\n",
       "      <td> The aspirator works well but needs to come wit...</td>\n",
       "      <td> 4</td>\n",
       "      <td> The aspirator works well but needs to come wit...</td>\n",
       "      <td> 1</td>\n",
       "    </tr>\n",
       "    <tr>\n",
       "      <th>183521</th>\n",
       "      <td> Airline Seat Belt Extender - The Best Extensio...</td>\n",
       "      <td> Up until recently I have hated flying, putting...</td>\n",
       "      <td> 5</td>\n",
       "      <td> Up until recently I have hated flying putting ...</td>\n",
       "      <td> 1</td>\n",
       "    </tr>\n",
       "    <tr>\n",
       "      <th>183522</th>\n",
       "      <td> Airline Seat Belt Extender - The Best Extensio...</td>\n",
       "      <td> I bought this as a father's day gift for my da...</td>\n",
       "      <td> 5</td>\n",
       "      <td> I bought this as a fathers day gift for my dad...</td>\n",
       "      <td> 1</td>\n",
       "    </tr>\n",
       "    <tr>\n",
       "      <th>183523</th>\n",
       "      <td> Squeasy Snacker 6oz Silicone Reusable Food Pou...</td>\n",
       "      <td> I love that these can hold purees OR liquids, ...</td>\n",
       "      <td> 5</td>\n",
       "      <td> I love that these can hold purees OR liquids a...</td>\n",
       "      <td> 1</td>\n",
       "    </tr>\n",
       "    <tr>\n",
       "      <th>183524</th>\n",
       "      <td> Squeasy Snacker 6oz Silicone Reusable Food Pou...</td>\n",
       "      <td> I love this product, it makes my life easier. ...</td>\n",
       "      <td> 5</td>\n",
       "      <td> I love this product it makes my life easier Wi...</td>\n",
       "      <td> 1</td>\n",
       "    </tr>\n",
       "    <tr>\n",
       "      <th>183525</th>\n",
       "      <td> Squeasy Snacker 6oz Silicone Reusable Food Pou...</td>\n",
       "      <td> This reusable squeeze bottle is the best I hav...</td>\n",
       "      <td> 5</td>\n",
       "      <td> This reusable squeeze bottle is the best I hav...</td>\n",
       "      <td> 1</td>\n",
       "    </tr>\n",
       "    <tr>\n",
       "      <th>183526</th>\n",
       "      <td> Baby Teething Necklace for Mom Pretty Donut Sh...</td>\n",
       "      <td> Such a great idea! very handy to have and look...</td>\n",
       "      <td> 5</td>\n",
       "      <td> Such a great idea very handy to have and look ...</td>\n",
       "      <td> 1</td>\n",
       "    </tr>\n",
       "    <tr>\n",
       "      <th>183527</th>\n",
       "      <td> Baby Teething Necklace for Mom Pretty Donut Sh...</td>\n",
       "      <td> This product rocks!  It is a great blend of fu...</td>\n",
       "      <td> 5</td>\n",
       "      <td> This product rocks  It is a great blend of fun...</td>\n",
       "      <td> 1</td>\n",
       "    </tr>\n",
       "    <tr>\n",
       "      <th>183528</th>\n",
       "      <td>  Abstract 2 PK Baby / Toddler Training Cup (Pink)</td>\n",
       "      <td> This item looks great and cool for my kids.......</td>\n",
       "      <td> 5</td>\n",
       "      <td> This item looks great and cool for my kidsI kn...</td>\n",
       "      <td> 1</td>\n",
       "    </tr>\n",
       "    <tr>\n",
       "      <th>183529</th>\n",
       "      <td> Baby Food Freezer Tray - Bacteria Resistant, B...</td>\n",
       "      <td> I am extremely happy with this product. I have...</td>\n",
       "      <td> 5</td>\n",
       "      <td> I am extremely happy with this product I have ...</td>\n",
       "      <td> 1</td>\n",
       "    </tr>\n",
       "    <tr>\n",
       "      <th>183530</th>\n",
       "      <td> Best 2 Pack Baby Car Shade for Kids - Window S...</td>\n",
       "      <td> I love this product very mush . I have bought ...</td>\n",
       "      <td> 5</td>\n",
       "      <td> I love this product very mush  I have bought m...</td>\n",
       "      <td> 1</td>\n",
       "    </tr>\n",
       "  </tbody>\n",
       "</table>\n",
       "<p>166752 rows × 5 columns</p>\n",
       "</div>"
      ],
      "text/plain": [
       "                                                     name  \\\n",
       "1                                   Planetwise Wipe Pouch   \n",
       "2                     Annas Dream Full Quilt with 2 Shams   \n",
       "3       Stop Pacifier Sucking without tears with Thumb...   \n",
       "4       Stop Pacifier Sucking without tears with Thumb...   \n",
       "5       Stop Pacifier Sucking without tears with Thumb...   \n",
       "6                 A Tale of Baby's Days with Peter Rabbit   \n",
       "7       Baby Tracker&reg; - Daily Childcare Journal, S...   \n",
       "8       Baby Tracker&reg; - Daily Childcare Journal, S...   \n",
       "9       Baby Tracker&reg; - Daily Childcare Journal, S...   \n",
       "10      Baby Tracker&reg; - Daily Childcare Journal, S...   \n",
       "11      Baby Tracker&reg; - Daily Childcare Journal, S...   \n",
       "12      Baby Tracker&reg; - Daily Childcare Journal, S...   \n",
       "14         Nature's Lullabies First Year Sticker Calendar   \n",
       "15         Nature's Lullabies First Year Sticker Calendar   \n",
       "16         Nature's Lullabies First Year Sticker Calendar   \n",
       "17        Nature's Lullabies Second Year Sticker Calendar   \n",
       "18        Nature's Lullabies Second Year Sticker Calendar   \n",
       "19        Nature's Lullabies Second Year Sticker Calendar   \n",
       "20        Nature's Lullabies Second Year Sticker Calendar   \n",
       "21        Nature's Lullabies Second Year Sticker Calendar   \n",
       "22        Nature's Lullabies Second Year Sticker Calendar   \n",
       "24        Nature's Lullabies Second Year Sticker Calendar   \n",
       "25        Nature's Lullabies Second Year Sticker Calendar   \n",
       "26                           Baby's First Journal - Green   \n",
       "28                            Lamaze Peekaboo, I Love You   \n",
       "29                            Lamaze Peekaboo, I Love You   \n",
       "30                            Lamaze Peekaboo, I Love You   \n",
       "31                            Lamaze Peekaboo, I Love You   \n",
       "32                            Lamaze Peekaboo, I Love You   \n",
       "33                            Lamaze Peekaboo, I Love You   \n",
       "...                                                   ...   \n",
       "183499  Maxboost iPhone 5S/5 Case - Protective Snap-on...   \n",
       "183500  Maxboost iPhone 5S/5 Case - Protective Snap-on...   \n",
       "183501  Maxboost iPhone 5S/5 Case - Protective Snap-on...   \n",
       "183502  Maxboost iPhone 5S/5 Case - Protective Snap-on...   \n",
       "183503  Maxboost iPhone 5S/5 Case - Protective Snap-on...   \n",
       "183504  Maxboost iPhone 5S/5 Case - Protective Snap-on...   \n",
       "183505  Maxboost iPhone 5S/5 Case - Protective Snap-on...   \n",
       "183506  Maxboost iPhone 5S/5 Case - Protective Snap-on...   \n",
       "183507  Maxboost iPhone 5S/5 Case - Protective Snap-on...   \n",
       "183508  Maxboost iPhone 5S/5 Case - Protective Snap-on...   \n",
       "183509  Maxboost iPhone 5S/5 Case - Protective Snap-on...   \n",
       "183510  Maxboost iPhone 5S/5 Case - Protective Snap-on...   \n",
       "183512  Maxboost iPhone 5S/5 Case - Protective Snap-on...   \n",
       "183513  Maxboost iPhone 5S/5 Case - Protective Snap-on...   \n",
       "183514  Maxboost iPhone 5S/5 Case - Protective Snap-on...   \n",
       "183515  Maxboost iPhone 5S/5 Case - Protective Snap-on...   \n",
       "183517  Baby Mucus Extractor, Nasal Aspirator From Dr....   \n",
       "183518  Baby Mucus Extractor, Nasal Aspirator From Dr....   \n",
       "183519  Baby Mucus Extractor, Nasal Aspirator From Dr....   \n",
       "183520  Baby Mucus Extractor, Nasal Aspirator From Dr....   \n",
       "183521  Airline Seat Belt Extender - The Best Extensio...   \n",
       "183522  Airline Seat Belt Extender - The Best Extensio...   \n",
       "183523  Squeasy Snacker 6oz Silicone Reusable Food Pou...   \n",
       "183524  Squeasy Snacker 6oz Silicone Reusable Food Pou...   \n",
       "183525  Squeasy Snacker 6oz Silicone Reusable Food Pou...   \n",
       "183526  Baby Teething Necklace for Mom Pretty Donut Sh...   \n",
       "183527  Baby Teething Necklace for Mom Pretty Donut Sh...   \n",
       "183528   Abstract 2 PK Baby / Toddler Training Cup (Pink)   \n",
       "183529  Baby Food Freezer Tray - Bacteria Resistant, B...   \n",
       "183530  Best 2 Pack Baby Car Shade for Kids - Window S...   \n",
       "\n",
       "                                                   review  rating  \\\n",
       "1       it came early and was not disappointed. i love...       5   \n",
       "2       Very soft and comfortable and warmer than it l...       5   \n",
       "3       This is a product well worth the purchase.  I ...       5   \n",
       "4       All of my kids have cried non-stop when I trie...       5   \n",
       "5       When the Binky Fairy came to our house, we did...       5   \n",
       "6       Lovely book, it's bound tightly so you may not...       4   \n",
       "7       Perfect for new parents. We were able to keep ...       5   \n",
       "8       A friend of mine pinned this product on Pinter...       5   \n",
       "9       This has been an easy way for my nanny to reco...       4   \n",
       "10      I love this journal and our nanny uses it ever...       4   \n",
       "11      This book is perfect!  I'm a first time new mo...       5   \n",
       "12      I originally just gave the nanny a pad of pape...       4   \n",
       "14      Space for monthly photos, info and a lot of us...       5   \n",
       "15      I bought this calender for myself for my secon...       4   \n",
       "16      I love this little calender, you can keep trac...       5   \n",
       "17      This was the only calender I could find for th...       5   \n",
       "18      I completed a calendar for my son's first year...       4   \n",
       "19      We wanted to get something to keep track of ou...       5   \n",
       "20      I had a hard time finding a second year calend...       5   \n",
       "21      I only purchased a second-year calendar for my...       2   \n",
       "22      I LOVE this calendar for recording events of m...       5   \n",
       "24      Wife loves this calender. Comes with a lot of ...       5   \n",
       "25      My daughter had her 1st baby over a year ago. ...       5   \n",
       "26      Extremely useful! As a new mom, tired and inex...       5   \n",
       "28      One of baby's first and favorite books, and it...       4   \n",
       "29      I like how the book has a hook to attach it to...       5   \n",
       "30      Beautiful little book.  A great little short s...       5   \n",
       "31      This book is so worth the money. It says 9+ mo...       5   \n",
       "32      we just got this book for our one-year-old and...       5   \n",
       "33      The book is colorful and is perfect for 6month...       4   \n",
       "...                                                   ...     ...   \n",
       "183499  I received a free sample from VIPU program for...       5   \n",
       "183500  Great product, great company! Their daily give...       5   \n",
       "183501  I received a free sample from VIPU program for...       5   \n",
       "183502  It got here incredibly fast & it is a nice dur...       5   \n",
       "183503  I got this case in the mail today, it came on ...       2   \n",
       "183504  Free caseLove it... The color was great firm h...       5   \n",
       "183505  I received a free sample from VIPU program for...       5   \n",
       "183506  This case definitely isn't cheap. It feels ver...       5   \n",
       "183507  got this for my wife and she loves it would de...       5   \n",
       "183508  love this case. It fit perfectly and the color...       5   \n",
       "183509  this case is the greatest very cool and stylis...       5   \n",
       "183510              Great fit. Really love how red it is.       5   \n",
       "183512  *I received a free sample from VIPU program fo...       5   \n",
       "183513  I was a very surprised by the quality of this ...       5   \n",
       "183514  I received a free sample from VIPU program for...       4   \n",
       "183515  I love this phone case!  My  iPhone is always ...       5   \n",
       "183517  I recieved this product free of charge and abs...       5   \n",
       "183518  The tube is soft and easy to use, and the tip ...       5   \n",
       "183519  I love this so much. It works way better than ...       5   \n",
       "183520  The aspirator works well but needs to come wit...       4   \n",
       "183521  Up until recently I have hated flying, putting...       5   \n",
       "183522  I bought this as a father's day gift for my da...       5   \n",
       "183523  I love that these can hold purees OR liquids, ...       5   \n",
       "183524  I love this product, it makes my life easier. ...       5   \n",
       "183525  This reusable squeeze bottle is the best I hav...       5   \n",
       "183526  Such a great idea! very handy to have and look...       5   \n",
       "183527  This product rocks!  It is a great blend of fu...       5   \n",
       "183528  This item looks great and cool for my kids.......       5   \n",
       "183529  I am extremely happy with this product. I have...       5   \n",
       "183530  I love this product very mush . I have bought ...       5   \n",
       "\n",
       "                                             review_clean  sentiment  \n",
       "1       it came early and was not disappointed i love ...          1  \n",
       "2       Very soft and comfortable and warmer than it l...          1  \n",
       "3       This is a product well worth the purchase  I h...          1  \n",
       "4       All of my kids have cried nonstop when I tried...          1  \n",
       "5       When the Binky Fairy came to our house we didn...          1  \n",
       "6       Lovely book its bound tightly so you may not b...          1  \n",
       "7       Perfect for new parents We were able to keep t...          1  \n",
       "8       A friend of mine pinned this product on Pinter...          1  \n",
       "9       This has been an easy way for my nanny to reco...          1  \n",
       "10      I love this journal and our nanny uses it ever...          1  \n",
       "11      This book is perfect  Im a first time new mom ...          1  \n",
       "12      I originally just gave the nanny a pad of pape...          1  \n",
       "14      Space for monthly photos info and a lot of use...          1  \n",
       "15      I bought this calender for myself for my secon...          1  \n",
       "16      I love this little calender you can keep track...          1  \n",
       "17      This was the only calender I could find for th...          1  \n",
       "18      I completed a calendar for my sons first year ...          1  \n",
       "19      We wanted to get something to keep track of ou...          1  \n",
       "20      I had a hard time finding a second year calend...          1  \n",
       "21      I only purchased a secondyear calendar for my ...         -1  \n",
       "22      I LOVE this calendar for recording events of m...          1  \n",
       "24      Wife loves this calender Comes with a lot of s...          1  \n",
       "25      My daughter had her 1st baby over a year ago S...          1  \n",
       "26      Extremely useful As a new mom tired and inexpe...          1  \n",
       "28      One of babys first and favorite books and it i...          1  \n",
       "29      I like how the book has a hook to attach it to...          1  \n",
       "30      Beautiful little book  A great little short st...          1  \n",
       "31      This book is so worth the money It says 9 mont...          1  \n",
       "32      we just got this book for our oneyearold and s...          1  \n",
       "33      The book is colorful and is perfect for 6month...          1  \n",
       "...                                                   ...        ...  \n",
       "183499  I received a free sample from VIPU program for...          1  \n",
       "183500  Great product great company Their daily giveaw...          1  \n",
       "183501  I received a free sample from VIPU program for...          1  \n",
       "183502  It got here incredibly fast  it is a nice dura...          1  \n",
       "183503  I got this case in the mail today it came on t...         -1  \n",
       "183504  Free caseLove it The color was great firm hold...          1  \n",
       "183505  I received a free sample from VIPU program for...          1  \n",
       "183506  This case definitely isnt cheap It feels very ...          1  \n",
       "183507  got this for my wife and she loves it would de...          1  \n",
       "183508  love this case It fit perfectly and the color ...          1  \n",
       "183509  this case is the greatest very cool and stylis...          1  \n",
       "183510                Great fit Really love how red it is          1  \n",
       "183512  I received a free sample from VIPU program for...          1  \n",
       "183513  I was a very surprised by the quality of this ...          1  \n",
       "183514  I received a free sample from VIPU program for...          1  \n",
       "183515  I love this phone case  My  iPhone is always s...          1  \n",
       "183517  I recieved this product free of charge and abs...          1  \n",
       "183518  The tube is soft and easy to use and the tip i...          1  \n",
       "183519  I love this so much It works way better than t...          1  \n",
       "183520  The aspirator works well but needs to come wit...          1  \n",
       "183521  Up until recently I have hated flying putting ...          1  \n",
       "183522  I bought this as a fathers day gift for my dad...          1  \n",
       "183523  I love that these can hold purees OR liquids a...          1  \n",
       "183524  I love this product it makes my life easier Wi...          1  \n",
       "183525  This reusable squeeze bottle is the best I hav...          1  \n",
       "183526  Such a great idea very handy to have and look ...          1  \n",
       "183527  This product rocks  It is a great blend of fun...          1  \n",
       "183528  This item looks great and cool for my kidsI kn...          1  \n",
       "183529  I am extremely happy with this product I have ...          1  \n",
       "183530  I love this product very mush  I have bought m...          1  \n",
       "\n",
       "[166752 rows x 5 columns]"
      ]
     },
     "execution_count": 8,
     "metadata": {},
     "output_type": "execute_result"
    }
   ],
   "source": [
    "products['sentiment'] = products['rating'].apply(lambda rating : +1 if rating > 3 else -1)\n",
    "products"
   ]
  },
  {
   "cell_type": "markdown",
   "metadata": {},
   "source": [
    "Now, we can see that the dataset contains an extra column called **sentiment** which is either positive (+1) or negative (-1)."
   ]
  },
  {
   "cell_type": "markdown",
   "metadata": {},
   "source": [
    "## Split data into training and test sets"
   ]
  },
  {
   "cell_type": "markdown",
   "metadata": {},
   "source": [
    "Let's perform a train/test split with 80% of the data in the training set and 20% of the data in the test set. We use `seed=1` so that everyone gets the same result."
   ]
  },
  {
   "cell_type": "code",
   "execution_count": 11,
   "metadata": {
    "collapsed": false
   },
   "outputs": [
    {
     "name": "stdout",
     "output_type": "stream",
     "text": [
      "133416\n",
      "33336\n"
     ]
    }
   ],
   "source": [
    "idx_train, idx_test = json.load(open('module-2-assignment-train-idx.json')), json.load(open('module-2-assignment-test-idx.json'))\n",
    "train_data, test_data = products.iloc[idx_train], products.iloc[idx_test]\n",
    "\n",
    "print len(train_data)\n",
    "print len(test_data)"
   ]
  },
  {
   "cell_type": "markdown",
   "metadata": {},
   "source": [
    "## Build the word count vector for each review"
   ]
  },
  {
   "cell_type": "markdown",
   "metadata": {},
   "source": [
    "We will now compute the word count for each word that appears in the reviews. A vector consisting of word counts is often referred to as bag-of-word features. Since most words occur in only a few reviews, word count vectors are sparse. For this reason, scikit-learn and many other tools use sparse matrices to store a collection of word count vectors. Refer to appropriate manuals to produce sparse word count vectors. General steps for extracting word count vectors are as follows:\n",
    "\n",
    "Learn a vocabulary (set of all words) from the training data. Only the words that show up in the training data will be considered for feature extraction.\n",
    "Compute the occurrences of the words in each review and collect them into a row vector.\n",
    "Build a sparse matrix where each row is the word count vector for the corresponding review. Call this matrix train_matrix.\n",
    "Using the same mapping between words and columns, convert the test data into a sparse matrix test_matrix."
   ]
  },
  {
   "cell_type": "code",
   "execution_count": 12,
   "metadata": {
    "collapsed": false
   },
   "outputs": [],
   "source": [
    "vectorizer = CountVectorizer(token_pattern=r'\\b\\w+\\b') # Use this token pattern to keep single-letter words\n",
    "train_matrix = vectorizer.fit_transform(train_data['review_clean'])\n",
    "test_matrix = vectorizer.transform(test_data['review_clean'])"
   ]
  },
  {
   "cell_type": "markdown",
   "metadata": {},
   "source": [
    "# Train a sentiment classifier with logistic regression\n",
    "\n",
    "We will now use logistic regression to create a sentiment classifier on the training data. This model will use the column **word_count** as a feature and the column **sentiment** as the target. We will use `validation_set=None` to obtain same results as everyone else.\n",
    "\n",
    "**Note:** This line may take 1-2 minutes."
   ]
  },
  {
   "cell_type": "code",
   "execution_count": 13,
   "metadata": {
    "collapsed": false
   },
   "outputs": [
    {
     "data": {
      "text/plain": [
       "LogisticRegression(C=1.0, class_weight=None, dual=False, fit_intercept=True,\n",
       "          intercept_scaling=1, penalty='l2', random_state=None, tol=0.0001)"
      ]
     },
     "execution_count": 13,
     "metadata": {},
     "output_type": "execute_result"
    }
   ],
   "source": [
    "sentiment_model = LogisticRegression()\n",
    "sentiment_model.fit(train_data['word_count'], train_data['sentiment'])"
   ]
  },
  {
   "cell_type": "markdown",
   "metadata": {},
   "source": [
    "**Aside**. You may get an warning to the effect of \"Terminated due to numerical difficulties --- this model may not be ideal\". It means that the quality metric (to be covered in Module 3) failed to improve in the last iteration of the run. The difficulty arises as the sentiment model puts too much weight on extremely rare words. A way to rectify this is to apply regularization, to be covered in Module 4. Regularization lessens the effect of extremely rare words. For the purpose of this assignment, however, please proceed with the model above."
   ]
  },
  {
   "cell_type": "markdown",
   "metadata": {},
   "source": [
    "Now that we have fitted the model, we can extract the weights (coefficients) as follows:"
   ]
  },
  {
   "cell_type": "code",
   "execution_count": 86,
   "metadata": {
    "collapsed": false
   },
   "outputs": [
    {
     "data": {
      "text/plain": [
       "121712"
      ]
     },
     "execution_count": 86,
     "metadata": {},
     "output_type": "execute_result"
    }
   ],
   "source": [
    "sentiment_weights = pd.DataFrame(columns=['word','coef'], index=vectorizer.vocabulary_)\n",
    "sentiment_weights['word'] = vectorizer.vocabulary_\n",
    "sentiment_weights['coef'] = sentiment_model.coef_.flatten()\n",
    "sentiment_weights = sentiment_weights.sort('coef', ascending=False)\n",
    "len(sentiment_weights)"
   ]
  },
  {
   "cell_type": "markdown",
   "metadata": {},
   "source": [
    "There are a total of `121712` coefficients in the model, plus interception. Recall from the lecture that positive weights $w_j$ correspond to weights that cause positive sentiment, while negative weights correspond to negative sentiment. \n",
    "\n",
    "Fill in the following block of code to calculate how many *weights* are positive ( >= 0)."
   ]
  },
  {
   "cell_type": "code",
   "execution_count": 82,
   "metadata": {
    "collapsed": false
   },
   "outputs": [
    {
     "name": "stdout",
     "output_type": "stream",
     "text": [
      "Number of positive weights: 86640 \n",
      "Number of negative weights: 35072 \n"
     ]
    }
   ],
   "source": [
    "num_positive_weights = sum(sentiment_weights['coef'] >= 0)\n",
    "num_negative_weights = sum(sentiment_weights['coef'] < 0)\n",
    "\n",
    "print \"Number of positive weights: %s \" % num_positive_weights\n",
    "print \"Number of negative weights: %s \" % num_negative_weights"
   ]
  },
  {
   "cell_type": "markdown",
   "metadata": {},
   "source": [
    "**Quiz question:** How many weights are >= 0?"
   ]
  },
  {
   "cell_type": "code",
   "execution_count": 17,
   "metadata": {
    "collapsed": false
   },
   "outputs": [
    {
     "name": "stdout",
     "output_type": "stream",
     "text": [
      "Quiz question 1: 86640 \n"
     ]
    }
   ],
   "source": [
    "print \"Quiz question 1: %s \" % num_positive_weights"
   ]
  },
  {
   "cell_type": "markdown",
   "metadata": {},
   "source": [
    "## Making predictions with logistic regression\n",
    "\n",
    "Now that a model is trained, we can make predictions on the **test data**. In this section, we will explore this in the context of 3 examples in the test dataset.  We refer to this set of 3 examples as the **sample_test_data**."
   ]
  },
  {
   "cell_type": "code",
   "execution_count": 59,
   "metadata": {
    "collapsed": false
   },
   "outputs": [
    {
     "name": "stdout",
     "output_type": "stream",
     "text": [
      "59    5\n",
      "71    2\n",
      "91    1\n",
      "Name: rating, dtype: float64\n"
     ]
    },
    {
     "data": {
      "text/html": [
       "<div style=\"max-height:1000px;max-width:1500px;overflow:auto;\">\n",
       "<table border=\"1\" class=\"dataframe\">\n",
       "  <thead>\n",
       "    <tr style=\"text-align: right;\">\n",
       "      <th></th>\n",
       "      <th>name</th>\n",
       "      <th>review</th>\n",
       "      <th>rating</th>\n",
       "      <th>review_clean</th>\n",
       "      <th>sentiment</th>\n",
       "      <th>prediction</th>\n",
       "      <th>word_count_subset</th>\n",
       "    </tr>\n",
       "  </thead>\n",
       "  <tbody>\n",
       "    <tr>\n",
       "      <th>59</th>\n",
       "      <td>                         Our Baby Girl Memory Book</td>\n",
       "      <td> Absolutely love it and all of the Scripture in...</td>\n",
       "      <td> 5</td>\n",
       "      <td> Absolutely love it and all of the Scripture in...</td>\n",
       "      <td> 1</td>\n",
       "      <td> 1</td>\n",
       "      <td>   (0, 2)\\t1\\n  (0, 18)\\t1\\n  (1, 0)\\t2\\n  (1, ...</td>\n",
       "    </tr>\n",
       "    <tr>\n",
       "      <th>71</th>\n",
       "      <td> Wall Decor Removable Decal Sticker - Colorful ...</td>\n",
       "      <td> Would not purchase again or recommend. The dec...</td>\n",
       "      <td> 2</td>\n",
       "      <td> Would not purchase again or recommend The deca...</td>\n",
       "      <td>-1</td>\n",
       "      <td>-1</td>\n",
       "      <td>   (0, 2)\\t1\\n  (0, 18)\\t1\\n  (1, 0)\\t2\\n  (1, ...</td>\n",
       "    </tr>\n",
       "    <tr>\n",
       "      <th>91</th>\n",
       "      <td> New Style Trailing Cherry Blossom Tree Decal R...</td>\n",
       "      <td> Was so excited to get this product for my baby...</td>\n",
       "      <td> 1</td>\n",
       "      <td> Was so excited to get this product for my baby...</td>\n",
       "      <td>-1</td>\n",
       "      <td>-1</td>\n",
       "      <td>   (0, 2)\\t1\\n  (0, 18)\\t1\\n  (1, 0)\\t2\\n  (1, ...</td>\n",
       "    </tr>\n",
       "  </tbody>\n",
       "</table>\n",
       "</div>"
      ],
      "text/plain": [
       "                                                 name  \\\n",
       "59                          Our Baby Girl Memory Book   \n",
       "71  Wall Decor Removable Decal Sticker - Colorful ...   \n",
       "91  New Style Trailing Cherry Blossom Tree Decal R...   \n",
       "\n",
       "                                               review  rating  \\\n",
       "59  Absolutely love it and all of the Scripture in...       5   \n",
       "71  Would not purchase again or recommend. The dec...       2   \n",
       "91  Was so excited to get this product for my baby...       1   \n",
       "\n",
       "                                         review_clean  sentiment  prediction  \\\n",
       "59  Absolutely love it and all of the Scripture in...          1           1   \n",
       "71  Would not purchase again or recommend The deca...         -1          -1   \n",
       "91  Was so excited to get this product for my baby...         -1          -1   \n",
       "\n",
       "                                    word_count_subset  \n",
       "59    (0, 2)\\t1\\n  (0, 18)\\t1\\n  (1, 0)\\t2\\n  (1, ...  \n",
       "71    (0, 2)\\t1\\n  (0, 18)\\t1\\n  (1, 0)\\t2\\n  (1, ...  \n",
       "91    (0, 2)\\t1\\n  (0, 18)\\t1\\n  (1, 0)\\t2\\n  (1, ...  "
      ]
     },
     "execution_count": 59,
     "metadata": {},
     "output_type": "execute_result"
    }
   ],
   "source": [
    "sample_test_data = test_data[10:13]\n",
    "print sample_test_data['rating']\n",
    "sample_test_data"
   ]
  },
  {
   "cell_type": "markdown",
   "metadata": {},
   "source": [
    "Let's dig deeper into the first row of the **sample_test_data**. Here's the full review:"
   ]
  },
  {
   "cell_type": "code",
   "execution_count": 19,
   "metadata": {
    "collapsed": false
   },
   "outputs": [
    {
     "data": {
      "text/plain": [
       "'Absolutely love it and all of the Scripture in it.  I purchased the Baby Boy version for my grandson when he was born and my daughter-in-law was thrilled to receive the same book again.'"
      ]
     },
     "execution_count": 19,
     "metadata": {},
     "output_type": "execute_result"
    }
   ],
   "source": [
    "sample_test_data.iloc[0]['review']"
   ]
  },
  {
   "cell_type": "markdown",
   "metadata": {},
   "source": [
    "That review seems pretty positive.\n",
    "\n",
    "Now, let's see what the next row of the **sample_test_data** looks like. As we could guess from the sentiment (-1), the review is quite negative."
   ]
  },
  {
   "cell_type": "code",
   "execution_count": 20,
   "metadata": {
    "collapsed": false
   },
   "outputs": [
    {
     "data": {
      "text/plain": [
       "'Would not purchase again or recommend. The decals were thick almost plastic like and were coming off the wall as I was applying them! The would NOT stick! Literally stayed stuck for about 5 minutes then started peeling off.'"
      ]
     },
     "execution_count": 20,
     "metadata": {},
     "output_type": "execute_result"
    }
   ],
   "source": [
    "sample_test_data.iloc[1]['review']"
   ]
  },
  {
   "cell_type": "markdown",
   "metadata": {},
   "source": [
    "We will now make a **class** prediction for the **sample_test_data**. The `sentiment_model` should predict **+1** if the sentiment is positive and **-1** if the sentiment is negative. Recall from the lecture that the **score** (sometimes called **margin**) for the logistic regression model  is defined as:\n",
    "\n",
    "$$\n",
    "\\mbox{score}_i = \\mathbf{w}^T h(\\mathbf{x}_i)\n",
    "$$ \n",
    "\n",
    "where $h(\\mathbf{x}_i)$ represents the features for example $i$. For each row, the **score** (or margin) is a number in the range **[-inf, inf]**."
   ]
  },
  {
   "cell_type": "code",
   "execution_count": 21,
   "metadata": {
    "collapsed": false
   },
   "outputs": [
    {
     "name": "stdout",
     "output_type": "stream",
     "text": [
      "[  5.60471249  -3.17516748 -10.42736019]\n"
     ]
    }
   ],
   "source": [
    "sample_test_matrix = vectorizer.transform(sample_test_data['review_clean'])\n",
    "scores = sentiment_model.decision_function(sample_test_matrix)\n",
    "print scores"
   ]
  },
  {
   "cell_type": "markdown",
   "metadata": {},
   "source": [
    "### Predicting sentiment\n",
    "\n",
    "These scores can be used to make class predictions as follows:\n",
    "\n",
    "$$\n",
    "\\hat{y} = \n",
    "\\left\\{\n",
    "\\begin{array}{ll}\n",
    "      +1 & \\mathbf{w}^T h(\\mathbf{x}_i) > 0 \\\\\n",
    "      -1 & \\mathbf{w}^T h(\\mathbf{x}_i) \\leq 0 \\\\\n",
    "\\end{array} \n",
    "\\right.\n",
    "$$\n",
    "\n",
    "Using scores, write code to calculate $\\hat{y}$, the class predictions:"
   ]
  },
  {
   "cell_type": "code",
   "execution_count": 22,
   "metadata": {
    "collapsed": false
   },
   "outputs": [
    {
     "name": "stdout",
     "output_type": "stream",
     "text": [
      "Class predictions according to scores:\n",
      "[1, -1, -1]\n"
     ]
    }
   ],
   "source": [
    "print \"Class predictions according to scores:\"\n",
    "print [1 if s > 0 else -1 for s in scores]"
   ]
  },
  {
   "cell_type": "markdown",
   "metadata": {},
   "source": [
    "Run the following code to verify that the class predictions obtained by your calculations are the same as that obtained from GraphLab Create."
   ]
  },
  {
   "cell_type": "code",
   "execution_count": 23,
   "metadata": {
    "collapsed": false
   },
   "outputs": [
    {
     "name": "stdout",
     "output_type": "stream",
     "text": [
      "Class predictions according to GraphLab Create:\n",
      "[ 1 -1 -1]\n"
     ]
    }
   ],
   "source": [
    "print \"Class predictions according to GraphLab Create:\" \n",
    "print sentiment_model.predict(sample_test_matrix)"
   ]
  },
  {
   "cell_type": "markdown",
   "metadata": {},
   "source": [
    "**Checkpoint**: Make sure your class predictions match with the one obtained from sklearn.\n",
    "\n",
    "### Probability predictions\n",
    "\n",
    "Recall from the lectures that we can also calculate the probability predictions from the scores using:\n",
    "$$\n",
    "P(y_i = +1 | \\mathbf{x}_i,\\mathbf{w}) = \\frac{1}{1 + \\exp(-\\mathbf{w}^T h(\\mathbf{x}_i))}.\n",
    "$$\n",
    "\n",
    "Using the variable **scores** calculated previously, write code to calculate the probability that a sentiment is positive using the above formula. For each row, the probabilities should be a number in the range **[0, 1]**."
   ]
  },
  {
   "cell_type": "code",
   "execution_count": 24,
   "metadata": {
    "collapsed": false
   },
   "outputs": [
    {
     "name": "stdout",
     "output_type": "stream",
     "text": [
      "Class predictions according to scores:\n",
      "[0.9963330176948809, 0.040110983027071355, 2.9610255204276893e-05]\n"
     ]
    }
   ],
   "source": [
    "print \"Class predictions according to scores:\" \n",
    "print [1 / (1 + math.exp(-s)) for s in scores]"
   ]
  },
  {
   "cell_type": "markdown",
   "metadata": {},
   "source": [
    "**Checkpoint**: Make sure your probability predictions match the ones obtained from GraphLab Create."
   ]
  },
  {
   "cell_type": "code",
   "execution_count": 25,
   "metadata": {
    "collapsed": false
   },
   "outputs": [
    {
     "name": "stdout",
     "output_type": "stream",
     "text": [
      "Class predictions according to GraphLab Create:\n",
      "[0.99633301769488092, 0.040110983027071355, 2.9610255204276893e-05]\n"
     ]
    }
   ],
   "source": [
    "print \"Class predictions according to GraphLab Create:\"\n",
    "predictions = [x[1] for x in sentiment_model.predict_proba(sample_test_matrix)]\n",
    "print predictions"
   ]
  },
  {
   "cell_type": "markdown",
   "metadata": {},
   "source": [
    "** Quiz Question:** Of the three data points in **sample_test_data**, which one (first, second, or third) has the **lowest probability** of being classified as a positive review?"
   ]
  },
  {
   "cell_type": "code",
   "execution_count": 26,
   "metadata": {
    "collapsed": false
   },
   "outputs": [
    {
     "name": "stdout",
     "output_type": "stream",
     "text": [
      "Quiz question 2: 3 \n"
     ]
    }
   ],
   "source": [
    "print \"Quiz question 2: %s \" % (np.argmin(predictions) + 1)"
   ]
  },
  {
   "cell_type": "markdown",
   "metadata": {},
   "source": [
    "# Find the most positive (and negative) review"
   ]
  },
  {
   "cell_type": "markdown",
   "metadata": {},
   "source": [
    "We now turn to examining the full test dataset, **test_data**, and use sklearn to form predictions on all of the test data points for faster performance.\n",
    "\n",
    "Using the `sentiment_model`, find the 20 reviews in the entire **test_data** with the **highest probability** of being classified as a **positive review**. We refer to these as the \"most positive reviews.\"\n",
    "\n",
    "To calculate these top-20 reviews, use the following steps:\n",
    "1.  Make probability predictions on **test_data** using the `sentiment_model`.\n",
    "2.  Sort the data according to those predictions and pick the top 20."
   ]
  },
  {
   "cell_type": "code",
   "execution_count": 39,
   "metadata": {
    "collapsed": false
   },
   "outputs": [
    {
     "name": "stderr",
     "output_type": "stream",
     "text": [
      "C:\\Anaconda2\\envs\\dato-env-2.7.9\\lib\\site-packages\\ipykernel\\__main__.py:1: SettingWithCopyWarning: \n",
      "A value is trying to be set on a copy of a slice from a DataFrame.\n",
      "Try using .loc[row_indexer,col_indexer] = value instead\n",
      "\n",
      "See the the caveats in the documentation: http://pandas.pydata.org/pandas-docs/stable/indexing.html#indexing-view-versus-copy\n",
      "  if __name__ == '__main__':\n"
     ]
    }
   ],
   "source": [
    "test_data['prediction'] = sentiment_model.predict(test_matrix)\n",
    "test_data_sorted = test_data.sort('prediction', ascending=False)\n",
    "test_data_top = test_data_sorted.head(20)"
   ]
  },
  {
   "cell_type": "code",
   "execution_count": 40,
   "metadata": {
    "collapsed": false
   },
   "outputs": [
    {
     "name": "stdout",
     "output_type": "stream",
     "text": [
      "Quiz question 3:\n",
      "[]\n"
     ]
    }
   ],
   "source": [
    "top_quiz = ('Snuza Portable Baby Movement Monitor', 'MamaDoo Kids Foldable Play Yard Mattress Topper, Blue', 'Britax Decathlon Convertible Car Seat, Tiffany', 'Safety 1st Exchangeable Tip 3 in 1 Thermometer')\n",
    "print \"Quiz question 3:\"\n",
    "print [n for n in test_data_top['name'] if n in top_quiz]"
   ]
  },
  {
   "cell_type": "markdown",
   "metadata": {},
   "source": [
    "**Quiz Question**: Which of the following products are represented in the 20 most positive reviews? [multiple choice]\n",
    "\n",
    "\n",
    "Now, let us repeat this excercise to find the \"most negative reviews.\" Use the prediction probabilities to find the  20 reviews in the **test_data** with the **lowest probability** of being classified as a **positive review**. Repeat the same steps above but make sure you **sort in the opposite order**."
   ]
  },
  {
   "cell_type": "code",
   "execution_count": 41,
   "metadata": {
    "collapsed": false,
    "scrolled": true
   },
   "outputs": [],
   "source": [
    "test_data_bottom = test_data_sorted.tail(20)"
   ]
  },
  {
   "cell_type": "markdown",
   "metadata": {
    "collapsed": true
   },
   "source": [
    "**Quiz Question**: Which of the following products are represented in the 20 most negative reviews?  [multiple choice]"
   ]
  },
  {
   "cell_type": "code",
   "execution_count": 42,
   "metadata": {
    "collapsed": false
   },
   "outputs": [
    {
     "name": "stdout",
     "output_type": "stream",
     "text": [
      "Quiz question 4:\n",
      "[]\n"
     ]
    }
   ],
   "source": [
    "bottom_quiz = ('The First Years True Choice P400 Premium Digital Monitor, 2 Parent Unit', 'JP Lizzy Chocolate Ice Classic Tote Set', 'Peg-Perego Tatamia High Chair, White Latte', 'Safety 1st High-Def Digital Monitor')\n",
    "print \"Quiz question 4:\"\n",
    "print [n for n in test_data_bottom['name'] if n in bottom_quiz]"
   ]
  },
  {
   "cell_type": "markdown",
   "metadata": {},
   "source": [
    "## Compute accuracy of the classifier\n",
    "\n",
    "We will now evaluate the accuracy of the trained classifer. Recall that the accuracy is given by\n",
    "\n",
    "\n",
    "$$\n",
    "\\mbox{accuracy} = \\frac{\\mbox{# correctly classified examples}}{\\mbox{# total examples}}\n",
    "$$\n",
    "\n",
    "This can be computed as follows:\n",
    "\n",
    "* **Step 1:** Use the trained model to compute class predictions (**Hint:** Use the `predict` method)\n",
    "* **Step 2:** Count the number of data points when the predicted class labels match the ground truth labels (called `true_labels` below).\n",
    "* **Step 3:** Divide the total number of correct predictions by the total number of data points in the dataset.\n",
    "\n",
    "Complete the function below to compute the classification accuracy:"
   ]
  },
  {
   "cell_type": "code",
   "execution_count": 43,
   "metadata": {
    "collapsed": true,
    "scrolled": true
   },
   "outputs": [],
   "source": [
    "def get_classification_accuracy(model, data, true_labels):\n",
    "    # First get the predictions\n",
    "    pred = model.predict(data)\n",
    "\n",
    "    # Compute the number of correctly classified examples\n",
    "    correct = sum(pred == true_labels)\n",
    "\n",
    "    # Then compute accuracy by dividing num_correct by total number of examples\n",
    "    accuracy = correct / data.shape[0]\n",
    "\n",
    "    return accuracy"
   ]
  },
  {
   "cell_type": "markdown",
   "metadata": {},
   "source": [
    "Now, let's compute the classification accuracy of the **sentiment_model** on the **test_data**."
   ]
  },
  {
   "cell_type": "code",
   "execution_count": 50,
   "metadata": {
    "collapsed": false
   },
   "outputs": [
    {
     "name": "stdout",
     "output_type": "stream",
     "text": [
      "Accuracy by sklearn 0.932265418766\n"
     ]
    }
   ],
   "source": [
    "accuracy = get_classification_accuracy(sentiment_model, test_matrix, test_data['sentiment'])\n",
    "print('Accuracy by sklearn %s' % accuracy_score(test_data['sentiment'], sentiment_model.predict(test_matrix)))"
   ]
  },
  {
   "cell_type": "markdown",
   "metadata": {},
   "source": [
    "**Quiz Question**: What is the accuracy of the **sentiment_model** on the **test_data**? Round your answer to 2 decimal places (e.g. 0.76).\n",
    "\n",
    "**Quiz Question**: Does a higher accuracy value on the **training_data** always imply that the classifier is better?"
   ]
  },
  {
   "cell_type": "code",
   "execution_count": 51,
   "metadata": {
    "collapsed": false
   },
   "outputs": [
    {
     "name": "stdout",
     "output_type": "stream",
     "text": [
      "Quiz question 5: 0.932265418766 \n",
      "Quiz question 6: No \n"
     ]
    }
   ],
   "source": [
    "print \"Quiz question 5: %s \" % accuracy\n",
    "print \"Quiz question 6: No \""
   ]
  },
  {
   "cell_type": "markdown",
   "metadata": {},
   "source": [
    "## Learn another classifier with fewer words\n",
    "\n",
    "There were a lot of words in the model we trained above. We will now train a simpler logistic regression model using only a subet of words that occur in the reviews. For this assignment, we selected a 20 words to work with. These are:"
   ]
  },
  {
   "cell_type": "code",
   "execution_count": 52,
   "metadata": {
    "collapsed": true
   },
   "outputs": [],
   "source": [
    "significant_words = ['love', 'great', 'easy', 'old', 'little', 'perfect', 'loves', \n",
    "      'well', 'able', 'car', 'broke', 'less', 'even', 'waste', 'disappointed', \n",
    "      'work', 'product', 'money', 'would', 'return']"
   ]
  },
  {
   "cell_type": "code",
   "execution_count": 53,
   "metadata": {
    "collapsed": false
   },
   "outputs": [
    {
     "data": {
      "text/plain": [
       "20"
      ]
     },
     "execution_count": 53,
     "metadata": {},
     "output_type": "execute_result"
    }
   ],
   "source": [
    "len(significant_words)"
   ]
  },
  {
   "cell_type": "markdown",
   "metadata": {},
   "source": [
    "For each review, we will use the **word_count** column and trim out all words that are **not** in the **significant_words** list above. Note that we are performing this on both the training and test set."
   ]
  },
  {
   "cell_type": "code",
   "execution_count": 60,
   "metadata": {
    "collapsed": false
   },
   "outputs": [],
   "source": [
    "vectorizer_word_subset = CountVectorizer(vocabulary=significant_words)\n",
    "train_matrix_word_subset = vectorizer_word_subset.fit_transform(train_data['review_clean'])\n",
    "test_matrix_word_subset = vectorizer_word_subset.transform(test_data['review_clean'])"
   ]
  },
  {
   "cell_type": "markdown",
   "metadata": {},
   "source": [
    "## Train a logistic regression model on a subset of data"
   ]
  },
  {
   "cell_type": "markdown",
   "metadata": {},
   "source": [
    "We will now build a classifier with **word_count_subset** as the feature and **sentiment** as the target. "
   ]
  },
  {
   "cell_type": "code",
   "execution_count": 61,
   "metadata": {
    "collapsed": false
   },
   "outputs": [
    {
     "data": {
      "text/plain": [
       "LogisticRegression(C=1.0, class_weight=None, dual=False, fit_intercept=True,\n",
       "          intercept_scaling=1, penalty='l2', random_state=None, tol=0.0001)"
      ]
     },
     "execution_count": 61,
     "metadata": {},
     "output_type": "execute_result"
    }
   ],
   "source": [
    "simple_model = LogisticRegression()\n",
    "simple_model.fit(train_matrix_word_subset, train_data['sentiment'])"
   ]
  },
  {
   "cell_type": "markdown",
   "metadata": {},
   "source": [
    "We can compute the classification accuracy using the `get_classification_accuracy` function you implemented earlier."
   ]
  },
  {
   "cell_type": "code",
   "execution_count": 66,
   "metadata": {
    "collapsed": false
   },
   "outputs": [
    {
     "name": "stdout",
     "output_type": "stream",
     "text": [
      "0.869360451164\n",
      "Accuracy by sklearn 0.869360451164\n"
     ]
    }
   ],
   "source": [
    "print get_classification_accuracy(simple_model, test_matrix_word_subset, test_data['sentiment'])\n",
    "print('Accuracy by sklearn %s' % accuracy_score(test_data['sentiment'], simple_model.predict(test_matrix_word_subset)))"
   ]
  },
  {
   "cell_type": "markdown",
   "metadata": {},
   "source": [
    "Now, we will inspect the weights (coefficients) of the **simple_model**:"
   ]
  },
  {
   "cell_type": "code",
   "execution_count": 125,
   "metadata": {
    "collapsed": false
   },
   "outputs": [
    {
     "data": {
      "text/html": [
       "<div style=\"max-height:1000px;max-width:1500px;overflow:auto;\">\n",
       "<table border=\"1\" class=\"dataframe\">\n",
       "  <thead>\n",
       "    <tr style=\"text-align: right;\">\n",
       "      <th></th>\n",
       "      <th>word</th>\n",
       "      <th>coef</th>\n",
       "    </tr>\n",
       "  </thead>\n",
       "  <tbody>\n",
       "    <tr>\n",
       "      <th>0 </th>\n",
       "      <td>         love</td>\n",
       "      <td> 1.363690</td>\n",
       "    </tr>\n",
       "    <tr>\n",
       "      <th>1 </th>\n",
       "      <td>        great</td>\n",
       "      <td> 0.944000</td>\n",
       "    </tr>\n",
       "    <tr>\n",
       "      <th>2 </th>\n",
       "      <td>         easy</td>\n",
       "      <td> 1.192538</td>\n",
       "    </tr>\n",
       "    <tr>\n",
       "      <th>3 </th>\n",
       "      <td>          old</td>\n",
       "      <td> 0.085513</td>\n",
       "    </tr>\n",
       "    <tr>\n",
       "      <th>4 </th>\n",
       "      <td>       little</td>\n",
       "      <td> 0.520186</td>\n",
       "    </tr>\n",
       "    <tr>\n",
       "      <th>5 </th>\n",
       "      <td>      perfect</td>\n",
       "      <td> 1.509812</td>\n",
       "    </tr>\n",
       "    <tr>\n",
       "      <th>6 </th>\n",
       "      <td>        loves</td>\n",
       "      <td> 1.673074</td>\n",
       "    </tr>\n",
       "    <tr>\n",
       "      <th>7 </th>\n",
       "      <td>         well</td>\n",
       "      <td> 0.503760</td>\n",
       "    </tr>\n",
       "    <tr>\n",
       "      <th>8 </th>\n",
       "      <td>         able</td>\n",
       "      <td> 0.190909</td>\n",
       "    </tr>\n",
       "    <tr>\n",
       "      <th>9 </th>\n",
       "      <td>          car</td>\n",
       "      <td> 0.058855</td>\n",
       "    </tr>\n",
       "    <tr>\n",
       "      <th>10</th>\n",
       "      <td>        broke</td>\n",
       "      <td>-1.651576</td>\n",
       "    </tr>\n",
       "    <tr>\n",
       "      <th>11</th>\n",
       "      <td>         less</td>\n",
       "      <td>-0.209563</td>\n",
       "    </tr>\n",
       "    <tr>\n",
       "      <th>12</th>\n",
       "      <td>         even</td>\n",
       "      <td>-0.511380</td>\n",
       "    </tr>\n",
       "    <tr>\n",
       "      <th>13</th>\n",
       "      <td>        waste</td>\n",
       "      <td>-2.033699</td>\n",
       "    </tr>\n",
       "    <tr>\n",
       "      <th>14</th>\n",
       "      <td> disappointed</td>\n",
       "      <td>-2.348298</td>\n",
       "    </tr>\n",
       "    <tr>\n",
       "      <th>15</th>\n",
       "      <td>         work</td>\n",
       "      <td>-0.621169</td>\n",
       "    </tr>\n",
       "    <tr>\n",
       "      <th>16</th>\n",
       "      <td>      product</td>\n",
       "      <td>-0.320556</td>\n",
       "    </tr>\n",
       "    <tr>\n",
       "      <th>17</th>\n",
       "      <td>        money</td>\n",
       "      <td>-0.898031</td>\n",
       "    </tr>\n",
       "    <tr>\n",
       "      <th>18</th>\n",
       "      <td>        would</td>\n",
       "      <td>-0.362167</td>\n",
       "    </tr>\n",
       "    <tr>\n",
       "      <th>19</th>\n",
       "      <td>       return</td>\n",
       "      <td>-2.109331</td>\n",
       "    </tr>\n",
       "  </tbody>\n",
       "</table>\n",
       "</div>"
      ],
      "text/plain": [
       "            word      coef\n",
       "0           love  1.363690\n",
       "1          great  0.944000\n",
       "2           easy  1.192538\n",
       "3            old  0.085513\n",
       "4         little  0.520186\n",
       "5        perfect  1.509812\n",
       "6          loves  1.673074\n",
       "7           well  0.503760\n",
       "8           able  0.190909\n",
       "9            car  0.058855\n",
       "10         broke -1.651576\n",
       "11          less -0.209563\n",
       "12          even -0.511380\n",
       "13         waste -2.033699\n",
       "14  disappointed -2.348298\n",
       "15          work -0.621169\n",
       "16       product -0.320556\n",
       "17         money -0.898031\n",
       "18         would -0.362167\n",
       "19        return -2.109331"
      ]
     },
     "execution_count": 125,
     "metadata": {},
     "output_type": "execute_result"
    }
   ],
   "source": [
    "simple_weights = pd.DataFrame(columns=['word','coef'])#, index=range(len(significant_words)))\n",
    "simple_weights['word'] = significant_words\n",
    "simple_weights['coef'] = simple_model.coef_.flatten()\n",
    "simple_weights"
   ]
  },
  {
   "cell_type": "markdown",
   "metadata": {},
   "source": [
    "Let's sort the coefficients (in descending order) by the **value** to obtain the coefficients with the most positive effect on the sentiment."
   ]
  },
  {
   "cell_type": "code",
   "execution_count": 128,
   "metadata": {
    "collapsed": false
   },
   "outputs": [
    {
     "data": {
      "text/html": [
       "<div style=\"max-height:1000px;max-width:1500px;overflow:auto;\">\n",
       "<table border=\"1\" class=\"dataframe\">\n",
       "  <thead>\n",
       "    <tr style=\"text-align: right;\">\n",
       "      <th></th>\n",
       "      <th>word</th>\n",
       "      <th>coef</th>\n",
       "    </tr>\n",
       "  </thead>\n",
       "  <tbody>\n",
       "    <tr>\n",
       "      <th>6 </th>\n",
       "      <td>        loves</td>\n",
       "      <td> 1.673074</td>\n",
       "    </tr>\n",
       "    <tr>\n",
       "      <th>5 </th>\n",
       "      <td>      perfect</td>\n",
       "      <td> 1.509812</td>\n",
       "    </tr>\n",
       "    <tr>\n",
       "      <th>0 </th>\n",
       "      <td>         love</td>\n",
       "      <td> 1.363690</td>\n",
       "    </tr>\n",
       "    <tr>\n",
       "      <th>2 </th>\n",
       "      <td>         easy</td>\n",
       "      <td> 1.192538</td>\n",
       "    </tr>\n",
       "    <tr>\n",
       "      <th>1 </th>\n",
       "      <td>        great</td>\n",
       "      <td> 0.944000</td>\n",
       "    </tr>\n",
       "    <tr>\n",
       "      <th>4 </th>\n",
       "      <td>       little</td>\n",
       "      <td> 0.520186</td>\n",
       "    </tr>\n",
       "    <tr>\n",
       "      <th>7 </th>\n",
       "      <td>         well</td>\n",
       "      <td> 0.503760</td>\n",
       "    </tr>\n",
       "    <tr>\n",
       "      <th>8 </th>\n",
       "      <td>         able</td>\n",
       "      <td> 0.190909</td>\n",
       "    </tr>\n",
       "    <tr>\n",
       "      <th>3 </th>\n",
       "      <td>          old</td>\n",
       "      <td> 0.085513</td>\n",
       "    </tr>\n",
       "    <tr>\n",
       "      <th>9 </th>\n",
       "      <td>          car</td>\n",
       "      <td> 0.058855</td>\n",
       "    </tr>\n",
       "    <tr>\n",
       "      <th>11</th>\n",
       "      <td>         less</td>\n",
       "      <td>-0.209563</td>\n",
       "    </tr>\n",
       "    <tr>\n",
       "      <th>16</th>\n",
       "      <td>      product</td>\n",
       "      <td>-0.320556</td>\n",
       "    </tr>\n",
       "    <tr>\n",
       "      <th>18</th>\n",
       "      <td>        would</td>\n",
       "      <td>-0.362167</td>\n",
       "    </tr>\n",
       "    <tr>\n",
       "      <th>12</th>\n",
       "      <td>         even</td>\n",
       "      <td>-0.511380</td>\n",
       "    </tr>\n",
       "    <tr>\n",
       "      <th>15</th>\n",
       "      <td>         work</td>\n",
       "      <td>-0.621169</td>\n",
       "    </tr>\n",
       "    <tr>\n",
       "      <th>17</th>\n",
       "      <td>        money</td>\n",
       "      <td>-0.898031</td>\n",
       "    </tr>\n",
       "    <tr>\n",
       "      <th>10</th>\n",
       "      <td>        broke</td>\n",
       "      <td>-1.651576</td>\n",
       "    </tr>\n",
       "    <tr>\n",
       "      <th>13</th>\n",
       "      <td>        waste</td>\n",
       "      <td>-2.033699</td>\n",
       "    </tr>\n",
       "    <tr>\n",
       "      <th>19</th>\n",
       "      <td>       return</td>\n",
       "      <td>-2.109331</td>\n",
       "    </tr>\n",
       "    <tr>\n",
       "      <th>14</th>\n",
       "      <td> disappointed</td>\n",
       "      <td>-2.348298</td>\n",
       "    </tr>\n",
       "  </tbody>\n",
       "</table>\n",
       "</div>"
      ],
      "text/plain": [
       "            word      coef\n",
       "6          loves  1.673074\n",
       "5        perfect  1.509812\n",
       "0           love  1.363690\n",
       "2           easy  1.192538\n",
       "1          great  0.944000\n",
       "4         little  0.520186\n",
       "7           well  0.503760\n",
       "8           able  0.190909\n",
       "3            old  0.085513\n",
       "9            car  0.058855\n",
       "11          less -0.209563\n",
       "16       product -0.320556\n",
       "18         would -0.362167\n",
       "12          even -0.511380\n",
       "15          work -0.621169\n",
       "17         money -0.898031\n",
       "10         broke -1.651576\n",
       "13         waste -2.033699\n",
       "19        return -2.109331\n",
       "14  disappointed -2.348298"
      ]
     },
     "execution_count": 128,
     "metadata": {},
     "output_type": "execute_result"
    }
   ],
   "source": [
    "simple_weights = simple_weights.sort('coef', ascending=False)\n",
    "simple_weights"
   ]
  },
  {
   "cell_type": "markdown",
   "metadata": {},
   "source": [
    "**Quiz Question**: Consider the coefficients of **simple_model**. There should be 21 of them, an intercept term + one for each word in **significant_words**. How many of the 20 coefficients (corresponding to the 20 **significant_words** and *excluding the intercept term*) are positive for the `simple_model`?"
   ]
  },
  {
   "cell_type": "code",
   "execution_count": 129,
   "metadata": {
    "collapsed": false
   },
   "outputs": [
    {
     "name": "stdout",
     "output_type": "stream",
     "text": [
      "Quiz question 7: 86640 \n"
     ]
    }
   ],
   "source": [
    "print \"Quiz question 7: %s \" % num_positive_weights"
   ]
  },
  {
   "cell_type": "markdown",
   "metadata": {},
   "source": [
    "**Quiz Question**: Are the positive words in the **simple_model** (let us call them `positive_significant_words`) also positive words in the **sentiment_model**?"
   ]
  },
  {
   "cell_type": "code",
   "execution_count": 154,
   "metadata": {
    "collapsed": false
   },
   "outputs": [
    {
     "name": "stdout",
     "output_type": "stream",
     "text": [
      "Quiz question 8: No\n"
     ]
    }
   ],
   "source": [
    "positive_significant_words = [c[0] for c in simple_weights.values.tolist() if c[1] >= 0]\n",
    "sentiment_positive_words = [c[0] for c in sentiment_weights.values.tolist() if c[1] >= 0]\n",
    "if len([e for e in positive_significant_words if e not in sentiment_positive_words]) == 0:\n",
    "    print 'Quiz question 8: Yes'\n",
    "else:\n",
    "    print 'Quiz question 8: No'"
   ]
  },
  {
   "cell_type": "markdown",
   "metadata": {},
   "source": [
    "# Comparing models"
   ]
  },
  {
   "cell_type": "markdown",
   "metadata": {},
   "source": [
    "We will now compare the accuracy of the **sentiment_model** and the **simple_model** using the `get_classification_accuracy` method you implemented above.\n",
    "\n",
    "First, compute the classification accuracy of the **sentiment_model** on the **train_data**:"
   ]
  },
  {
   "cell_type": "code",
   "execution_count": 156,
   "metadata": {
    "collapsed": false
   },
   "outputs": [],
   "source": [
    "accuracy_sentiment_train = get_classification_accuracy(sentiment_model, train_matrix, train_data['sentiment'])"
   ]
  },
  {
   "cell_type": "markdown",
   "metadata": {},
   "source": [
    "Now, compute the classification accuracy of the **simple_model** on the **train_data**:"
   ]
  },
  {
   "cell_type": "code",
   "execution_count": 158,
   "metadata": {
    "collapsed": false
   },
   "outputs": [],
   "source": [
    "accuracy_simple_train = get_classification_accuracy(simple_model, train_matrix_word_subset, train_data['sentiment'])"
   ]
  },
  {
   "cell_type": "markdown",
   "metadata": {},
   "source": [
    "**Quiz Question**: Which model (**sentiment_model** or **simple_model**) has higher accuracy on the TRAINING set?"
   ]
  },
  {
   "cell_type": "code",
   "execution_count": 159,
   "metadata": {
    "collapsed": false
   },
   "outputs": [
    {
     "name": "stdout",
     "output_type": "stream",
     "text": [
      "Quiz question 9: sentiment_model\n"
     ]
    }
   ],
   "source": [
    "if accuracy_sentiment_train > accuracy_simple_train:\n",
    "    print 'Quiz question 9: sentiment_model'\n",
    "else:\n",
    "    print 'Quiz question 9: simple_model'"
   ]
  },
  {
   "cell_type": "markdown",
   "metadata": {},
   "source": [
    "Now, we will repeat this excercise on the **test_data**. Start by computing the classification accuracy of the **sentiment_model** on the **test_data**:"
   ]
  },
  {
   "cell_type": "code",
   "execution_count": 160,
   "metadata": {
    "collapsed": false
   },
   "outputs": [],
   "source": [
    "accuracy_sentiment_test = get_classification_accuracy(sentiment_model, test_matrix, test_data['sentiment'])"
   ]
  },
  {
   "cell_type": "markdown",
   "metadata": {},
   "source": [
    "Next, we will compute the classification accuracy of the **simple_model** on the **test_data**:"
   ]
  },
  {
   "cell_type": "code",
   "execution_count": 161,
   "metadata": {
    "collapsed": false
   },
   "outputs": [],
   "source": [
    "accuracy_simple_test = get_classification_accuracy(simple_model, test_matrix_word_subset, test_data['sentiment'])"
   ]
  },
  {
   "cell_type": "markdown",
   "metadata": {},
   "source": [
    "**Quiz Question**: Which model (**sentiment_model** or **simple_model**) has higher accuracy on the TEST set?"
   ]
  },
  {
   "cell_type": "code",
   "execution_count": 162,
   "metadata": {
    "collapsed": false
   },
   "outputs": [
    {
     "name": "stdout",
     "output_type": "stream",
     "text": [
      "Quiz question 10: sentiment_model\n"
     ]
    }
   ],
   "source": [
    "if accuracy_sentiment_test > accuracy_simple_test:\n",
    "    print 'Quiz question 10: sentiment_model'\n",
    "else:\n",
    "    print 'Quiz question 10: simple_model'"
   ]
  },
  {
   "cell_type": "markdown",
   "metadata": {},
   "source": [
    "## Baseline: Majority class prediction\n",
    "\n",
    "It is quite common to use the **majority class classifier** as the a baseline (or reference) model for comparison with your classifier model. The majority classifier model predicts the majority class for all data points. At the very least, you should healthily beat the majority class classifier, otherwise, the model is (usually) pointless.\n",
    "\n",
    "What is the majority class in the **train_data**?"
   ]
  },
  {
   "cell_type": "code",
   "execution_count": 163,
   "metadata": {
    "collapsed": false
   },
   "outputs": [
    {
     "name": "stdout",
     "output_type": "stream",
     "text": [
      "112164\n",
      "21252\n"
     ]
    }
   ],
   "source": [
    "num_positive  = (train_data['sentiment'] == +1).sum()\n",
    "num_negative = (train_data['sentiment'] == -1).sum()\n",
    "print num_positive\n",
    "print num_negative"
   ]
  },
  {
   "cell_type": "markdown",
   "metadata": {},
   "source": [
    "Now compute the accuracy of the majority class classifier on **test_data**.\n",
    "\n",
    "**Quiz Question**: Enter the accuracy of the majority class classifier model on the **test_data**. Round your answer to two decimal places (e.g. 0.76)."
   ]
  },
  {
   "cell_type": "code",
   "execution_count": 164,
   "metadata": {
    "collapsed": false,
    "scrolled": true
   },
   "outputs": [
    {
     "name": "stdout",
     "output_type": "stream",
     "text": [
      "Quiz question 11: 0.840708760568 \n"
     ]
    }
   ],
   "source": [
    "accuracy_majority = num_positive / (num_positive + num_negative)\n",
    "print \"Quiz question 11: %s \" % accuracy_majority"
   ]
  },
  {
   "cell_type": "markdown",
   "metadata": {},
   "source": [
    "**Quiz Question**: Is the **sentiment_model** definitely better than the majority class classifier (the baseline)?"
   ]
  },
  {
   "cell_type": "code",
   "execution_count": 165,
   "metadata": {
    "collapsed": false
   },
   "outputs": [
    {
     "name": "stdout",
     "output_type": "stream",
     "text": [
      "Quiz question 12: Yes\n"
     ]
    }
   ],
   "source": [
    "if accuracy_sentiment_test > accuracy_majority:\n",
    "    print 'Quiz question 12: Yes'\n",
    "else:\n",
    "    print 'Quiz question 12: No'"
   ]
  },
  {
   "cell_type": "code",
   "execution_count": null,
   "metadata": {
    "collapsed": true
   },
   "outputs": [],
   "source": []
  }
 ],
 "metadata": {
  "kernelspec": {
   "display_name": "Python 2",
   "language": "python",
   "name": "python2"
  },
  "language_info": {
   "codemirror_mode": {
    "name": "ipython",
    "version": 2
   },
   "file_extension": ".py",
   "mimetype": "text/x-python",
   "name": "python",
   "nbconvert_exporter": "python",
   "pygments_lexer": "ipython2",
   "version": "2.7.11"
  }
 },
 "nbformat": 4,
 "nbformat_minor": 0
}
